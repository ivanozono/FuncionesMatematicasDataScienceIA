{
  "nbformat": 4,
  "nbformat_minor": 5,
  "metadata": {
    "noteable-chatgpt": {
      "create_notebook": {
        "openai_conversation_id": "8e1130d9-6883-5e66-bd37-5f80261cd4de",
        "openai_ephemeral_user_id": "8f8037e4-338b-5d3d-9a6b-2c5a8ad018cf",
        "openai_subdivision1_iso_code": "MX-BCN"
      }
    },
    "noteable": {
      "last_transaction_id": "c862834c-cdb1-4d17-8aca-398768f8186e"
    },
    "selected_hardware_size": "small",
    "colab": {
      "provenance": [],
      "include_colab_link": true
    },
    "language_info": {
      "name": "python"
    },
    "kernelspec": {
      "name": "python3",
      "display_name": "Python 3"
    }
  },
  "cells": [
    {
      "cell_type": "markdown",
      "metadata": {
        "id": "view-in-github",
        "colab_type": "text"
      },
      "source": [
        "<a href=\"https://colab.research.google.com/github/ivanozono/MathFuncsDSciencieAI/blob/main/(3)%20Funciones_Compuestas.ipynb\" target=\"_parent\"><img src=\"https://colab.research.google.com/assets/colab-badge.svg\" alt=\"Open In Colab\"/></a>"
      ]
    },
    {
      "id": "6947cd8e-03a2-430b-b330-77444eddf573",
      "cell_type": "markdown",
      "source": [
        "---\n",
        "**Composite Functions**\n",
        "\n",
        "---\n",
        "\n",
        "In mathematics, a composite function is a function formed by the composition or successive application of two or more functions. The notation used for composite functions is `(f o g)(x)`, where `f` and `g` are functions and `x` is the input value. In this notation, the function `g` is applied first to `x`, and then the function `f` is applied to the result of `g(x)`.\n",
        "\n",
        "Composite functions are a fundamental tool in mathematics and computer science, useful for modeling situations where one quantity depends on another.\n",
        "\n"
      ],
      "metadata": {
        "noteable": {
          "cell_type": "markdown"
        },
        "id": "6947cd8e-03a2-430b-b330-77444eddf573"
      }
    },
    {
      "cell_type": "markdown",
      "source": [
        "---\n",
        "\n",
        "**Composite Functions Implementation**\n",
        "\n",
        "---"
      ],
      "metadata": {
        "id": "rg4FRVEthEBO"
      },
      "id": "rg4FRVEthEBO"
    },
    {
      "id": "1f9a03eb-2fb6-4b23-9522-e49d213164a0",
      "cell_type": "code",
      "metadata": {
        "noteable": {
          "cell_type": "code",
          "output_collection_id": "147df64e-07d9-4809-9746-e71aad0917b9"
        },
        "ExecuteTime": {
          "end_time": "2023-07-02T23:50:52.320035+00:00",
          "start_time": "2023-07-02T23:50:52.162253+00:00"
        },
        "id": "1f9a03eb-2fb6-4b23-9522-e49d213164a0",
        "outputId": "25dde6de-5828-4249-e70d-dd3f4d987d23",
        "colab": {
          "base_uri": "https://localhost:8080/"
        }
      },
      "execution_count": 5,
      "source": [
        "# Defining the functions\n",
        "def g(x):\n",
        "    \"\"\"This function adds 2 to the input.\"\"\"\n",
        "    return x + 2\n",
        "\n",
        "def f(x):\n",
        "    \"\"\"This function multiplies the input by 2.\"\"\"\n",
        "    return x * 2\n",
        "\n",
        "# Defining the composite function\n",
        "def fog(x):\n",
        "    \"\"\"This function applies f to the result of g(x).\"\"\"\n",
        "    return f(g(x))\n",
        "\n",
        "# Testing the composite function\n",
        "print(fog(5))  # Expected output: 14"
      ],
      "outputs": [
        {
          "output_type": "stream",
          "name": "stdout",
          "text": [
            "14\n"
          ]
        }
      ]
    },
    {
      "cell_type": "markdown",
      "source": [
        "\n",
        "\n",
        "\n",
        "The code demonstrates the concept and creation of composite functions, specifically showcasing how two functions \\( f \\) and \\( g \\) can be combined.\n",
        "\n",
        "---\n",
        "\n",
        "**Code Explanation:**\n",
        "\n",
        "1. **Function Definitions:**\n",
        "\n",
        "  Two basic functions are defined:\n",
        "     \n",
        "    - `g(x)`: Adds 2 to the input `x`.\n",
        "    - `f(x)`: Multiplies the input `x` by 2.\n",
        "\n",
        "2. **Composite Function Definition:**\n",
        "   \n",
        "  The function `fog(x)` embodies the composite function \\( f \\circ g \\). Here's how it works:\n",
        "\n",
        "    - It first applies the function \\( g \\) to `x` (i.e., \\( g(x) \\)).\n",
        "    - The result of \\( g(x) \\) is then passed to function \\( f \\).\n",
        "    - Essentially, if you supply a value into `fog(x)`, it first goes through `g(x)`, and then the result undergoes `f(x)`.\n",
        "\n",
        "3. **Testing the Composite Function:**\n",
        "\n",
        "  The composite function `fog(x)` is tested with an input of 5:\n",
        "\n",
        "    - First, `g(5)` computes \\( 5 + 2 = 7 \\).\n",
        "    - Then, `f(7)` computes \\( 7 \\times 2 = 14 \\).\n",
        "    - The combined result from the composite function for the input 5 is indeed 14, as expected.\n",
        "\n",
        "\n"
      ],
      "metadata": {
        "id": "SSxTHy4sgQmA"
      },
      "id": "SSxTHy4sgQmA"
    },
    {
      "id": "793d287b-1279-4e73-8e5f-c54cc7322192",
      "cell_type": "markdown",
      "source": [
        "---\n",
        "**Inverse Functions**\n",
        "\n",
        "---\n",
        "In the context of composite functions, it's also important to understand the concept of inverse functions. An inverse function is a function that 'reverses' the effect of the original function.\n",
        "\n",
        "If `f` is a function that takes an input `x` and produces an output `y`, then the inverse function of `f`, denoted as `f^-1`, takes `y` as input and produces `x` as output. In other words, if `y = f(x)`, then `x = f^-1(y)`.\n",
        "\n",
        "Not all functions have an inverse. For a function to have an inverse, it must be a bijective function, meaning it's both injective (or 'one-to-one') and surjective ('onto'). In simpler terms, each input must correspond to exactly one output, and each output must correspond to at least one input.\n",
        "\n",
        "In the context of data science, understanding inverse functions can be particularly useful when working with transformations of data. For example, if we apply a logarithmic transformation to a set of data to make it more normally distributed, we might later apply an exponential transformation (the inverse of the logarithm) to return the data to its original scale.\n",
        "\n",
        "---"
      ],
      "metadata": {
        "noteable": {
          "cell_type": "markdown"
        },
        "id": "793d287b-1279-4e73-8e5f-c54cc7322192"
      }
    },
    {
      "cell_type": "markdown",
      "source": [
        "---\n",
        "\n",
        "**Inverse Functions and Composition**\n",
        "\n",
        "---"
      ],
      "metadata": {
        "id": "jQoeV-GSjN0L"
      },
      "id": "jQoeV-GSjN0L"
    },
    {
      "id": "a57c3964-6209-4a92-88f1-478f61bd6cff",
      "cell_type": "code",
      "metadata": {
        "noteable": {
          "cell_type": "code",
          "output_collection_id": "28cd4814-cca8-4ed3-97de-eb7701692810"
        },
        "ExecuteTime": {
          "end_time": "2023-07-02T23:51:51.788387+00:00",
          "start_time": "2023-07-02T23:51:51.629242+00:00"
        },
        "id": "a57c3964-6209-4a92-88f1-478f61bd6cff",
        "outputId": "ec5c76b8-ae42-4ff4-c24f-379d89728179",
        "colab": {
          "base_uri": "https://localhost:8080/"
        }
      },
      "execution_count": 6,
      "source": [
        "# Defining the inverse functions\n",
        "def g_inverse(x):\n",
        "    \"\"\"This function subtracts 2 from the input.\"\"\"\n",
        "    return x - 2\n",
        "\n",
        "def f_inverse(x):\n",
        "    \"\"\"This function divides the input by 2.\"\"\"\n",
        "    return x / 2\n",
        "\n",
        "# Defining the composite inverse function\n",
        "def fog_inverse(x):\n",
        "    \"\"\"This function applies g_inverse to the result of f_inverse(x).\"\"\"\n",
        "    return g_inverse(f_inverse(x))\n",
        "\n",
        "# Testing the composite inverse function\n",
        "print(fog_inverse(14))  # Expected output: 5"
      ],
      "outputs": [
        {
          "output_type": "stream",
          "name": "stdout",
          "text": [
            "5.0\n"
          ]
        }
      ]
    },
    {
      "cell_type": "markdown",
      "source": [
        "\n",
        "\n",
        "The code illustrates the definition and application of inverse functions, culminating in the creation of a composite inverse function.\n",
        "\n",
        "---\n",
        "\n",
        "**Code Explanation:**\n",
        "\n",
        "1. **Defining Individual Inverse Functions:**\n",
        "    \n",
        "    - **Function `g_inverse`:**\n",
        "\n",
        "        The function `g_inverse` takes an input `x` and subtracts 2. This could be the inverse of a function that adds 2 to its input.\n",
        "\n",
        "    - **Function `f_inverse`:**\n",
        "\n",
        "        The function `f_inverse` takes an input `x` and divides it by 2. This could be the inverse of a function that multiplies its input by 2.\n",
        "\n",
        "2. **Defining the Composite Inverse Function:**\n",
        "   \n",
        "    The composite function `fog_inverse` computes the result of `f_inverse(x)` and then applies the `g_inverse` function on the result. This sequence is equivalent to first applying \\( f \\) and then \\( g \\) to an input and then reversing the process by applying the inverses in the opposite order.\n",
        "\n",
        "3. **Testing the Composite Inverse Function:**\n",
        "    \n",
        "    When the value 14 is passed to the composite inverse function:\n",
        "    - First, it's divided by 2 resulting in 7.\n",
        "    - Then, 2 is subtracted from 7 resulting in 5.\n",
        "    Hence, the expected output is 5.\n",
        "\n"
      ],
      "metadata": {
        "id": "3vbFBavXi-tj"
      },
      "id": "3vbFBavXi-tj"
    }
  ]
}
