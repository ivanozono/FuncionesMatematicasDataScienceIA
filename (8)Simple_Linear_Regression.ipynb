{
  "nbformat": 4,
  "nbformat_minor": 5,
  "metadata": {
    "noteable-chatgpt": {
      "create_notebook": {
        "openai_conversation_id": "6eb3c9e7-c17a-5f20-bbbc-2389b74c7a36",
        "openai_ephemeral_user_id": "3af8edfd-ae3a-58ef-80b4-27e8917550be",
        "openai_subdivision1_iso_code": "MX-BCN"
      }
    },
    "noteable": {
      "last_transaction_id": "5b41a9ae-9fae-4ebe-9282-f8d3fd606d8b"
    },
    "selected_hardware_size": "small",
    "colab": {
      "provenance": [],
      "include_colab_link": true
    },
    "language_info": {
      "name": "python"
    },
    "kernelspec": {
      "name": "python3",
      "display_name": "Python 3"
    }
  },
  "cells": [
    {
      "cell_type": "markdown",
      "metadata": {
        "id": "view-in-github",
        "colab_type": "text"
      },
      "source": [
        "<a href=\"https://colab.research.google.com/github/ivanozono/MathFuncsDSciencieAI/blob/main/(8)Simple_Linear_Regression.ipynb\" target=\"_parent\"><img src=\"https://colab.research.google.com/assets/colab-badge.svg\" alt=\"Open In Colab\"/></a>"
      ]
    },
    {
      "id": "1d08587e-26b8-45d0-a06f-f706628cc68f",
      "cell_type": "markdown",
      "source": [
        "---\n",
        "**Simple Linear Regression**\n",
        "\n",
        "---\n"
      ],
      "metadata": {
        "noteable": {
          "cell_type": "markdown"
        },
        "id": "1d08587e-26b8-45d0-a06f-f706628cc68f"
      }
    },
    {
      "id": "6207d4c6-92cb-4438-864f-895984dd729c",
      "cell_type": "markdown",
      "source": [
        "---\n",
        "**Introduction to Simple Linear Regression**\n",
        "\n",
        "---\n",
        "\n",
        "Simple Linear Regression is a statistical method that allows us to summarize and study relationships between two continuous (quantitative) variables:\n",
        "\n",
        "1. One variable, denoted x, is regarded as the predictor, explanatory, or independent variable.\n",
        "2. The other variable, denoted y, is regarded as the response, outcome, or dependent variable.\n",
        "\n",
        "The simple linear regression model is expressed as:\n",
        "\n",
        "y = β0 + β1x + ε\n",
        "\n",
        "where:\n",
        "\n",
        "- y is the dependent variable.\n",
        "- x is the independent variable.\n",
        "- β0 is the y-intercept.\n",
        "- β1 is the slope.\n",
        "- ε is the error term.\n",
        "\n",
        "The goal of simple linear regression is to create a linear model that minimizes the sum of squares of the residuals/error (ε)."
      ],
      "metadata": {
        "noteable": {
          "cell_type": "markdown"
        },
        "id": "6207d4c6-92cb-4438-864f-895984dd729c"
      }
    },
    {
      "id": "a4684d63-43d0-4cc5-891e-09872b4de663",
      "cell_type": "markdown",
      "source": [
        "---\n",
        "**Assumptions of Simple Linear Regression**\n",
        "\n",
        "---\n",
        "\n",
        "Simple Linear Regression makes several assumptions:\n",
        "\n",
        "- **Linearity**: The relationship between X and the mean of Y is linear.\n",
        "- **Homoscedasticity**: The variance of residual is the same for any value of X.\n",
        "- **Independence**: Observations are independent of each other.\n",
        "- **Normality**: For any fixed value of X, Y is normally distributed.\n",
        "\n",
        "When these assumptions are violated, the reliability of the forecasted values and the insights from the model are questionable."
      ],
      "metadata": {
        "noteable": {
          "cell_type": "markdown"
        },
        "id": "a4684d63-43d0-4cc5-891e-09872b4de663"
      }
    },
    {
      "cell_type": "markdown",
      "source": [
        "---\n",
        "\n",
        "**Simple Linear Regression Demonstration**\n",
        "\n",
        "---"
      ],
      "metadata": {
        "id": "AGBjyDn39oQJ"
      },
      "id": "AGBjyDn39oQJ"
    },
    {
      "id": "18cd9806-59d2-47e8-92b4-710ab07fbe99",
      "cell_type": "code",
      "metadata": {
        "noteable": {
          "cell_type": "code",
          "output_collection_id": "b3c3f5df-e717-43ef-8ee3-0d8ae6a1eac1"
        },
        "ExecuteTime": {
          "end_time": "2023-07-04T03:24:30.822110+00:00",
          "start_time": "2023-07-04T03:24:29.895664+00:00"
        },
        "id": "18cd9806-59d2-47e8-92b4-710ab07fbe99"
      },
      "execution_count": 1,
      "source": [
        "# Importing necessary libraries\n",
        "import numpy as np\n",
        "import pandas as pd\n",
        "import matplotlib.pyplot as plt\n",
        "from sklearn.model_selection import train_test_split\n",
        "from sklearn.linear_model import LinearRegression\n",
        "from sklearn import metrics\n",
        "\n",
        "# This allows plots to appear directly in the notebook\n",
        "%matplotlib inline"
      ],
      "outputs": []
    },
    {
      "cell_type": "markdown",
      "source": [
        "\n",
        "\n",
        "The code demonstrates the process of creating a hypothetical dataset, performing simple linear regression on it, and visualizing the results.\n",
        "\n",
        "---\n",
        "\n",
        "**Code Explanation:**\n",
        "\n",
        "1. **Setting up the Environment and Libraries:**\n",
        "    - Necessary libraries such as `numpy`, `pandas`, `matplotlib`, and `sklearn` are imported.\n",
        "    - The line `%matplotlib inline` ensures that plots appear directly in the notebook."
      ],
      "metadata": {
        "id": "NdR1xlPk9hbC"
      },
      "id": "NdR1xlPk9hbC"
    },
    {
      "id": "73066705-d1c8-4017-8a9e-f246824ed4e7",
      "cell_type": "markdown",
      "source": [
        "Now, let's create a hypothetical dataset with one independent variable and one dependent variable."
      ],
      "metadata": {
        "noteable": {
          "cell_type": "markdown"
        },
        "id": "73066705-d1c8-4017-8a9e-f246824ed4e7"
      }
    },
    {
      "id": "f6a3537a-f56c-4fa9-b3f5-2581f6ed32e7",
      "cell_type": "code",
      "metadata": {
        "noteable": {
          "cell_type": "code",
          "output_collection_id": "1b8df821-f549-4b80-8458-4048ec160c8a"
        },
        "ExecuteTime": {
          "end_time": "2023-07-04T03:24:53.009769+00:00",
          "start_time": "2023-07-04T03:24:52.433749+00:00"
        },
        "id": "f6a3537a-f56c-4fa9-b3f5-2581f6ed32e7",
        "outputId": "7a4bfbdc-e025-4246-fc94-926d105dc267",
        "colab": {
          "base_uri": "https://localhost:8080/",
          "height": 449
        }
      },
      "execution_count": 2,
      "source": [
        "# Creating a hypothetical dataset\n",
        "np.random.seed(0)\n",
        "x = np.random.rand(100, 1)\n",
        "y = 2 + 3 * x + np.random.rand(100, 1)\n",
        "\n",
        "# Plotting the dataset\n",
        "plt.scatter(x,y,s=10)\n",
        "plt.xlabel('x')\n",
        "plt.ylabel('y')\n",
        "plt.show()"
      ],
      "outputs": [
        {
          "output_type": "display_data",
          "data": {
            "text/plain": [
              "<Figure size 640x480 with 1 Axes>"
            ],
            "image/png": "[encoded data removed]"
          },
          "metadata": {}
        }
      ]
    },
    {
      "cell_type": "markdown",
      "source": [
        "\n",
        "\n",
        "2. **Generating the Hypothetical Dataset:**\n",
        "  \n",
        "    A seed is set for reproducibility. `x` values are generated randomly. `y` values are computed based on a linear equation with some random noise added.\n",
        "\n",
        "3. **Visualizing the Hypothetical Dataset:**\n",
        "   \n",
        "    This section plots the generated data points, providing a visual representation of our hypothetical dataset."
      ],
      "metadata": {
        "id": "PzstYrKj9ZCL"
      },
      "id": "PzstYrKj9ZCL"
    },
    {
      "id": "b88d972c-8405-48e2-b78b-30b0530baff5",
      "cell_type": "markdown",
      "source": [
        "Next, we will split our dataset into training and testing sets. The training set will be used to train the linear regression model, while the testing set will be used to evaluate the model's performance."
      ],
      "metadata": {
        "noteable": {
          "cell_type": "markdown"
        },
        "id": "b88d972c-8405-48e2-b78b-30b0530baff5"
      }
    },
    {
      "id": "ca6a8810-3875-4d0a-908a-41064e695fe1",
      "cell_type": "code",
      "metadata": {
        "noteable": {
          "cell_type": "code",
          "output_collection_id": "edc875ed-ee28-4a98-9d8d-a8dd9c8e8800"
        },
        "ExecuteTime": {
          "end_time": "2023-07-04T03:25:12.721096+00:00",
          "start_time": "2023-07-04T03:25:12.563499+00:00"
        },
        "id": "ca6a8810-3875-4d0a-908a-41064e695fe1"
      },
      "execution_count": 3,
      "source": [
        "# Splitting the dataset into training and testing sets\n",
        "x_train, x_test, y_train, y_test = train_test_split(x, y, test_size=0.2, random_state=0)"
      ],
      "outputs": []
    },
    {
      "cell_type": "markdown",
      "source": [
        "\n",
        "\n",
        "4. **Data Splitting:**\n",
        "   \n",
        "    The dataset is divided into training and testing sets. 80% of the data is used for training, and the remaining 20% is reserved for testing."
      ],
      "metadata": {
        "id": "LKhDmGfs9S2S"
      },
      "id": "LKhDmGfs9S2S"
    },
    {
      "id": "2df6dec2-05f0-4069-bc34-241b17af84af",
      "cell_type": "markdown",
      "source": [
        "Now, we will train our Simple Linear Regression model on the training set using Scikit-Learn's `LinearRegression` class."
      ],
      "metadata": {
        "noteable": {
          "cell_type": "markdown"
        },
        "id": "2df6dec2-05f0-4069-bc34-241b17af84af"
      }
    },
    {
      "id": "cad18605-5254-4395-9161-aaee570390ca",
      "cell_type": "code",
      "metadata": {
        "noteable": {
          "cell_type": "code",
          "output_collection_id": "4599ad01-a317-4496-ad31-37b17e7d4867"
        },
        "ExecuteTime": {
          "end_time": "2023-07-04T03:25:33.158757+00:00",
          "start_time": "2023-07-04T03:25:32.996871+00:00"
        },
        "id": "cad18605-5254-4395-9161-aaee570390ca",
        "outputId": "3ad57b52-4e77-48ee-a6f9-de797b16a86e",
        "colab": {
          "base_uri": "https://localhost:8080/",
          "height": 75
        }
      },
      "execution_count": 4,
      "source": [
        "# Training the Simple Linear Regression model on the training set\n",
        "regressor = LinearRegression()\n",
        "regressor.fit(x_train, y_train)"
      ],
      "outputs": [
        {
          "output_type": "execute_result",
          "data": {
            "text/plain": [
              "LinearRegression()"
            ],
            "text/html": [
              "<style>#sk-container-id-1 {color: black;background-color: white;}#sk-container-id-1 pre{padding: 0;}#sk-container-id-1 div.sk-toggleable {background-color: white;}#sk-container-id-1 label.sk-toggleable__label {cursor: pointer;display: block;width: 100%;margin-bottom: 0;padding: 0.3em;box-sizing: border-box;text-align: center;}#sk-container-id-1 label.sk-toggleable__label-arrow:before {content: \"▸\";float: left;margin-right: 0.25em;color: #696969;}#sk-container-id-1 label.sk-toggleable__label-arrow:hover:before {color: black;}#sk-container-id-1 div.sk-estimator:hover label.sk-toggleable__label-arrow:before {color: black;}#sk-container-id-1 div.sk-toggleable__content {max-height: 0;max-width: 0;overflow: hidden;text-align: left;background-color: #f0f8ff;}#sk-container-id-1 div.sk-toggleable__content pre {margin: 0.2em;color: black;border-radius: 0.25em;background-color: #f0f8ff;}#sk-container-id-1 input.sk-toggleable__control:checked~div.sk-toggleable__content {max-height: 200px;max-width: 100%;overflow: auto;}#sk-container-id-1 input.sk-toggleable__control:checked~label.sk-toggleable__label-arrow:before {content: \"▾\";}#sk-container-id-1 div.sk-estimator input.sk-toggleable__control:checked~label.sk-toggleable__label {background-color: #d4ebff;}#sk-container-id-1 div.sk-label input.sk-toggleable__control:checked~label.sk-toggleable__label {background-color: #d4ebff;}#sk-container-id-1 input.sk-hidden--visually {border: 0;clip: rect(1px 1px 1px 1px);clip: rect(1px, 1px, 1px, 1px);height: 1px;margin: -1px;overflow: hidden;padding: 0;position: absolute;width: 1px;}#sk-container-id-1 div.sk-estimator {font-family: monospace;background-color: #f0f8ff;border: 1px dotted black;border-radius: 0.25em;box-sizing: border-box;margin-bottom: 0.5em;}#sk-container-id-1 div.sk-estimator:hover {background-color: #d4ebff;}#sk-container-id-1 div.sk-parallel-item::after {content: \"\";width: 100%;border-bottom: 1px solid gray;flex-grow: 1;}#sk-container-id-1 div.sk-label:hover label.sk-toggleable__label {background-color: #d4ebff;}#sk-container-id-1 div.sk-serial::before {content: \"\";position: absolute;border-left: 1px solid gray;box-sizing: border-box;top: 0;bottom: 0;left: 50%;z-index: 0;}#sk-container-id-1 div.sk-serial {display: flex;flex-direction: column;align-items: center;background-color: white;padding-right: 0.2em;padding-left: 0.2em;position: relative;}#sk-container-id-1 div.sk-item {position: relative;z-index: 1;}#sk-container-id-1 div.sk-parallel {display: flex;align-items: stretch;justify-content: center;background-color: white;position: relative;}#sk-container-id-1 div.sk-item::before, #sk-container-id-1 div.sk-parallel-item::before {content: \"\";position: absolute;border-left: 1px solid gray;box-sizing: border-box;top: 0;bottom: 0;left: 50%;z-index: -1;}#sk-container-id-1 div.sk-parallel-item {display: flex;flex-direction: column;z-index: 1;position: relative;background-color: white;}#sk-container-id-1 div.sk-parallel-item:first-child::after {align-self: flex-end;width: 50%;}#sk-container-id-1 div.sk-parallel-item:last-child::after {align-self: flex-start;width: 50%;}#sk-container-id-1 div.sk-parallel-item:only-child::after {width: 0;}#sk-container-id-1 div.sk-dashed-wrapped {border: 1px dashed gray;margin: 0 0.4em 0.5em 0.4em;box-sizing: border-box;padding-bottom: 0.4em;background-color: white;}#sk-container-id-1 div.sk-label label {font-family: monospace;font-weight: bold;display: inline-block;line-height: 1.2em;}#sk-container-id-1 div.sk-label-container {text-align: center;}#sk-container-id-1 div.sk-container {/* jupyter's `normalize.less` sets `[hidden] { display: none; }` but bootstrap.min.css set `[hidden] { display: none !important; }` so we also need the `!important` here to be able to override the default hidden behavior on the sphinx rendered scikit-learn.org. See: https://github.com/scikit-learn/scikit-learn/issues/21755 */display: inline-block !important;position: relative;}#sk-container-id-1 div.sk-text-repr-fallback {display: none;}</style><div id=\"sk-container-id-1\" class=\"sk-top-container\"><div class=\"sk-text-repr-fallback\"><pre>LinearRegression()</pre><b>In a Jupyter environment, please rerun this cell to show the HTML representation or trust the notebook. <br />On GitHub, the HTML representation is unable to render, please try loading this page with nbviewer.org.</b></div><div class=\"sk-container\" hidden><div class=\"sk-item\"><div class=\"sk-estimator sk-toggleable\"><input class=\"sk-toggleable__control sk-hidden--visually\" id=\"sk-estimator-id-1\" type=\"checkbox\" checked><label for=\"sk-estimator-id-1\" class=\"sk-toggleable__label sk-toggleable__label-arrow\">LinearRegression</label><div class=\"sk-toggleable__content\"><pre>LinearRegression()</pre></div></div></div></div></div>"
            ]
          },
          "metadata": {},
          "execution_count": 4
        }
      ]
    },
    {
      "cell_type": "markdown",
      "source": [
        "\n",
        "\n",
        "5. **Model Training:**\n",
        "  \n",
        "    A linear regression model is initialized and trained on the training data."
      ],
      "metadata": {
        "id": "0Oyomdtt9MfD"
      },
      "id": "0Oyomdtt9MfD"
    },
    {
      "id": "85b89ef8-f66e-4516-bb02-c2b209ff411d",
      "cell_type": "markdown",
      "source": [
        "After training the model, we can obtain the slope and intercept of the regression line."
      ],
      "metadata": {
        "noteable": {
          "cell_type": "markdown"
        },
        "id": "85b89ef8-f66e-4516-bb02-c2b209ff411d"
      }
    },
    {
      "id": "9ca9a392-05bb-410a-bdf2-487f96863cd1",
      "cell_type": "code",
      "metadata": {
        "noteable": {
          "cell_type": "code",
          "output_collection_id": "f7a011cb-e089-4e56-a598-acd53430c043"
        },
        "ExecuteTime": {
          "end_time": "2023-07-04T03:25:55.832754+00:00",
          "start_time": "2023-07-04T03:25:55.675549+00:00"
        },
        "id": "9ca9a392-05bb-410a-bdf2-487f96863cd1",
        "outputId": "3e20402b-abee-4858-c10a-70e3d313331b",
        "colab": {
          "base_uri": "https://localhost:8080/"
        }
      },
      "execution_count": 5,
      "source": [
        "# Getting parameters\n",
        "intercept = regressor.intercept_[0]\n",
        "slope = regressor.coef_[0][0]\n",
        "\n",
        "print(f'The intercept of the regression line is: {intercept}')\n",
        "print(f'The slope of the regression line is: {slope}')"
      ],
      "outputs": [
        {
          "output_type": "stream",
          "name": "stdout",
          "text": [
            "The intercept of the regression line is: 2.5829249755056933\n",
            "The slope of the regression line is: 2.9100122468492406\n"
          ]
        }
      ]
    },
    {
      "cell_type": "markdown",
      "source": [
        "\n",
        "\n",
        "6. **Extracting Regression Parameters:**\n",
        "  \n",
        "    The intercept and slope (coefficient) of the regression line are extracted."
      ],
      "metadata": {
        "id": "XuOM5e6g9B3d"
      },
      "id": "XuOM5e6g9B3d"
    },
    {
      "id": "d25e1f1e-9aa6-4164-82f6-d1edd86fe214",
      "cell_type": "markdown",
      "source": [
        "Now, let's use our trained model to make predictions on the testing set and visualize the regression line."
      ],
      "metadata": {
        "noteable": {
          "cell_type": "markdown"
        },
        "id": "d25e1f1e-9aa6-4164-82f6-d1edd86fe214"
      }
    },
    {
      "id": "23560748-0f72-4862-bab5-553e3e4a8f06",
      "cell_type": "code",
      "metadata": {
        "noteable": {
          "cell_type": "code",
          "output_collection_id": "a4a7a733-cb83-44ad-8644-514cacfd55c4"
        },
        "ExecuteTime": {
          "end_time": "2023-07-04T03:26:31.223246+00:00",
          "start_time": "2023-07-04T03:26:30.400054+00:00"
        },
        "id": "23560748-0f72-4862-bab5-553e3e4a8f06",
        "outputId": "3679c105-dd8d-4e91-cdb1-ff4093698088",
        "colab": {
          "base_uri": "https://localhost:8080/",
          "height": 927
        }
      },
      "execution_count": 6,
      "source": [
        "# Making predictions\n",
        "y_pred = regressor.predict(x_test)\n",
        "\n",
        "# Visualizing the training set results\n",
        "plt.scatter(x_train, y_train, color = 'red')\n",
        "plt.plot(x_train, regressor.predict(x_train), color = 'blue')\n",
        "plt.title('Training set')\n",
        "plt.xlabel('x')\n",
        "plt.ylabel('y')\n",
        "plt.show()\n",
        "\n",
        "# Visualizing the test set results\n",
        "plt.scatter(x_test, y_test, color = 'red')\n",
        "plt.plot(x_train, regressor.predict(x_train), color = 'blue')\n",
        "plt.title('Test set')\n",
        "plt.xlabel('x')\n",
        "plt.ylabel('y')\n",
        "plt.show()"
      ],
      "outputs": [
        {
          "output_type": "display_data",
          "data": {
            "text/plain": [
              "<Figure size 640x480 with 1 Axes>"
            ],
            "image/png": "[encoded data removed]"
          },
          "metadata": {}
        },
        {
          "output_type": "display_data",
          "data": {
            "text/plain": [
              "<Figure size 640x480 with 1 Axes>"
            ],
            "image/png": "[encoded data removed]"
          },
          "metadata": {}
        }
      ]
    },
    {
      "cell_type": "markdown",
      "source": [
        "\n",
        "\n",
        "7. **Making Predictions:**\n",
        "  \n",
        "    The trained model is used to predict the `y` values for the test set.\n",
        "\n",
        "8. **Visualizations:**\n",
        "    - **Training Set:**\n",
        "     \n",
        "        This plots the training data points and overlays the regression line obtained from the model.\n",
        "    \n",
        "    - **Test Set:**\n",
        "       \n",
        "        The test data points are plotted, and the same regression line (trained on the training set) is overlaid.\n",
        "\n",
        "---\n"
      ],
      "metadata": {
        "id": "KjzBWYE68r2n"
      },
      "id": "KjzBWYE68r2n"
    },
    {
      "id": "5ab4d351-8c89-45da-86b1-b14d05a20781",
      "cell_type": "markdown",
      "source": [
        "---\n",
        "**Interpreting the Results**\n",
        "\n",
        "---\n",
        "\n",
        "The slope and intercept of the regression line are known as the model coefficients or parameters. In our case:\n",
        "\n",
        "- The y-intercept (β0) is around 2.58. This means that if the x variable (independent variable) is zero, then the expected output (y or dependent variable) would be 2.58.\n",
        "- The slope (β1) is around 2.91. This means that for each one unit change in x, the change in y is about 2.91.\n",
        "\n",
        "The blue lines in the plots above represent the regression line, which is the best fit line through the data points. As we can see, the model seems to fit the data quite well.\n",
        "\n",
        "Simple Linear Regression is a powerful tool for understanding the linear relationships between two variables, and it's a fundamental technique in statistical learning and machine learning. However, it's important to remember that it makes several assumptions about the data, and if these assumptions are violated, the results may not be reliable.\n",
        "\n",
        "In the real world, data is often more complex and may require more sophisticated models. But understanding Simple Linear Regression is a good starting point for diving into more complex regression models and machine learning techniques."
      ],
      "metadata": {
        "noteable": {
          "cell_type": "markdown"
        },
        "id": "5ab4d351-8c89-45da-86b1-b14d05a20781"
      }
    }
  ]
}