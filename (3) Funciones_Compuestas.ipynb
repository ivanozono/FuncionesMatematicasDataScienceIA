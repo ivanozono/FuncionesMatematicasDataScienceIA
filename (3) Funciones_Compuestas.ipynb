{
  "nbformat": 4,
  "nbformat_minor": 5,
  "metadata": {
    "noteable-chatgpt": {
      "create_notebook": {
        "openai_conversation_id": "8e1130d9-6883-5e66-bd37-5f80261cd4de",
        "openai_ephemeral_user_id": "8f8037e4-338b-5d3d-9a6b-2c5a8ad018cf",
        "openai_subdivision1_iso_code": "MX-BCN"
      }
    },
    "noteable": {
      "last_transaction_id": "c862834c-cdb1-4d17-8aca-398768f8186e"
    },
    "selected_hardware_size": "small"
  },
  "cells": [
    {
      "id": "6947cd8e-03a2-430b-b330-77444eddf573",
      "cell_type": "markdown",
      "source": "# Composite Functions\n\nIn mathematics, a composite function is a function formed by the composition or successive application of two or more functions. The notation used for composite functions is `(f o g)(x)`, where `f` and `g` are functions and `x` is the input value. In this notation, the function `g` is applied first to `x`, and then the function `f` is applied to the result of `g(x)`.\n\nComposite functions are a fundamental tool in mathematics and computer science, useful for modeling situations where one quantity depends on another. In this notebook, we will explore the concept of composite functions, their properties, and how to work with them in Python.",
      "metadata": {
        "noteable": {
          "cell_type": "markdown"
        }
      }
    },
    {
      "id": "1f9a03eb-2fb6-4b23-9522-e49d213164a0",
      "cell_type": "code",
      "metadata": {
        "noteable": {
          "cell_type": "code",
          "output_collection_id": "147df64e-07d9-4809-9746-e71aad0917b9"
        },
        "ExecuteTime": {
          "end_time": "2023-07-02T23:50:52.320035+00:00",
          "start_time": "2023-07-02T23:50:52.162253+00:00"
        }
      },
      "execution_count": null,
      "source": "# Defining the functions\ndef g(x):\n    \"\"\"This function adds 2 to the input.\"\"\"\n    return x + 2\n\ndef f(x):\n    \"\"\"This function multiplies the input by 2.\"\"\"\n    return x * 2\n\n# Defining the composite function\ndef fog(x):\n    \"\"\"This function applies f to the result of g(x).\"\"\"\n    return f(g(x))\n\n# Testing the composite function\nprint(fog(5))  # Expected output: 14",
      "outputs": []
    },
    {
      "id": "793d287b-1279-4e73-8e5f-c54cc7322192",
      "cell_type": "markdown",
      "source": "## Inverse Functions\n\nIn the context of composite functions, it's also important to understand the concept of inverse functions. An inverse function is a function that 'reverses' the effect of the original function.\n\nIf `f` is a function that takes an input `x` and produces an output `y`, then the inverse function of `f`, denoted as `f^-1`, takes `y` as input and produces `x` as output. In other words, if `y = f(x)`, then `x = f^-1(y)`.\n\nNot all functions have an inverse. For a function to have an inverse, it must be a bijective function, meaning it's both injective (or 'one-to-one') and surjective ('onto'). In simpler terms, each input must correspond to exactly one output, and each output must correspond to at least one input.\n\nIn the context of data science, understanding inverse functions can be particularly useful when working with transformations of data. For example, if we apply a logarithmic transformation to a set of data to make it more normally distributed, we might later apply an exponential transformation (the inverse of the logarithm) to return the data to its original scale.",
      "metadata": {
        "noteable": {
          "cell_type": "markdown"
        }
      }
    },
    {
      "id": "a57c3964-6209-4a92-88f1-478f61bd6cff",
      "cell_type": "code",
      "metadata": {
        "noteable": {
          "cell_type": "code",
          "output_collection_id": "28cd4814-cca8-4ed3-97de-eb7701692810"
        },
        "ExecuteTime": {
          "end_time": "2023-07-02T23:51:51.788387+00:00",
          "start_time": "2023-07-02T23:51:51.629242+00:00"
        }
      },
      "execution_count": null,
      "source": "# Defining the inverse functions\ndef g_inverse(x):\n    \"\"\"This function subtracts 2 from the input.\"\"\"\n    return x - 2\n\ndef f_inverse(x):\n    \"\"\"This function divides the input by 2.\"\"\"\n    return x / 2\n\n# Defining the composite inverse function\ndef fog_inverse(x):\n    \"\"\"This function applies g_inverse to the result of f_inverse(x).\"\"\"\n    return g_inverse(f_inverse(x))\n\n# Testing the composite inverse function\nprint(fog_inverse(14))  # Expected output: 5",
      "outputs": []
    },
    {
      "id": "59c1dd14-08d2-4763-a3eb-c0aa7bdce5ea",
      "cell_type": "markdown",
      "source": "## Conclusion\n\nIn this notebook, we explored the concept of composite functions and inverse functions. We learned that a composite function is a function formed by applying one function to the result of another, and that an inverse function 'reverses' the effect of the original function.\n\nWe also saw how to define and use composite functions and inverse functions in Python, and we discussed the importance of these concepts in the field of data science, particularly when working with transformations of data.\n\nUnderstanding these concepts is crucial for anyone working in data science or any field that involves mathematical modeling or data analysis. By mastering composite functions and inverse functions, you can gain a deeper understanding of the relationships between variables and make more accurate predictions and analyses.",
      "metadata": {
        "noteable": {
          "cell_type": "markdown"
        }
      }
    }
  ]
}