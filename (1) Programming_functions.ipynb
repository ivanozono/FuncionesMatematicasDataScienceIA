{
  "nbformat": 4,
  "nbformat_minor": 5,
  "metadata": {
    "noteable-chatgpt": {
      "create_notebook": {
        "openai_conversation_id": "f97a5aa7-dfd9-51c1-bb05-4ff56957325a",
        "openai_ephemeral_user_id": "8f8037e4-338b-5d3d-9a6b-2c5a8ad018cf",
        "openai_subdivision1_iso_code": "MX-BCN"
      }
    },
    "noteable": {
      "last_transaction_id": "09612c0b-3bcb-4cda-b127-7a89bc728757"
    },
    "selected_hardware_size": "small"
  },
  "cells": [
    {
      "id": "5dc087dc-286c-422e-9cda-20b660849eea",
      "cell_type": "code",
      "metadata": {
        "noteable": {
          "cell_type": "code",
          "output_collection_id": "e84a9f66-c950-4358-93de-21d3e8d93745"
        },
        "ExecuteTime": {
          "end_time": "2023-07-02T18:49:12.305085+00:00",
          "start_time": "2023-07-02T18:49:11.845632+00:00"
        }
      },
      "execution_count": null,
      "source": "import matplotlib.pyplot as plt   # librería para graficar\nimport numpy as np                # librería para manejo de vectores y utilidades matemáticas",
      "outputs": []
    },
    {
      "id": "3a986e1b-69dc-41b7-a23d-2082d6e60b61",
      "cell_type": "code",
      "metadata": {
        "noteable": {
          "cell_type": "code",
          "output_collection_id": "08709b1e-6ed6-4fd9-9eae-2c5af8abceb3"
        },
        "ExecuteTime": {
          "end_time": "2023-07-02T18:49:48.972826+00:00",
          "start_time": "2023-07-02T18:49:48.401441+00:00"
        }
      },
      "execution_count": null,
      "source": "N = 100\nm = -1\nb = 3\ndef f(x):\n  return m*x+b\nx = np.linspace(-10,10, num=N)\ny = f(x)\nfig, ax = plt.subplots()\nax.plot(x,y)\nax.grid()",
      "outputs": []
    },
    {
      "id": "e8b74b2a-229b-4dd3-8824-10ff2cf6acb2",
      "cell_type": "code",
      "metadata": {
        "noteable": {
          "cell_type": "code",
          "output_collection_id": "51b9f147-c9d0-4ed5-a596-45d4662f4078"
        },
        "ExecuteTime": {
          "end_time": "2023-07-02T18:50:20.499075+00:00",
          "start_time": "2023-07-02T18:50:20.017869+00:00"
        }
      },
      "execution_count": null,
      "source": "def f(x):\n  return x**7\ny = f(x)\nplt.plot(x,y)\nplt.grid()",
      "outputs": []
    },
    {
      "id": "9d565420-57c5-40af-83dc-f19591066682",
      "cell_type": "code",
      "metadata": {
        "noteable": {
          "cell_type": "code",
          "output_collection_id": "3b33cdbc-4f8d-4c66-a287-2706932ef798"
        },
        "ExecuteTime": {
          "end_time": "2023-07-02T18:50:48.101633+00:00",
          "start_time": "2023-07-02T18:50:47.649002+00:00"
        }
      },
      "execution_count": null,
      "source": "def f(x):\n  return np.cos(x)\ny = f(x)\nplt.plot(x,y)",
      "outputs": []
    },
    {
      "id": "67c182ce-cf5f-40e6-a606-831841b860a8",
      "cell_type": "code",
      "metadata": {
        "noteable": {
          "cell_type": "code",
          "output_collection_id": "9a922596-908a-4623-8256-99979753b96e"
        },
        "ExecuteTime": {
          "end_time": "2023-07-02T18:51:15.169299+00:00",
          "start_time": "2023-07-02T18:51:14.729990+00:00"
        }
      },
      "execution_count": null,
      "source": "def f(x):\n  return np.exp(x)\ny=f(x)\nplt.plot(x,y)",
      "outputs": []
    },
    {
      "id": "3a7ef227-f7a5-4743-bc9f-a47097e47d61",
      "cell_type": "code",
      "metadata": {
        "noteable": {
          "cell_type": "code",
          "output_collection_id": "4eeb3ce2-b848-4392-b19d-584ed4f6f7ab"
        },
        "ExecuteTime": {
          "end_time": "2023-07-02T18:51:46.774436+00:00",
          "start_time": "2023-07-02T18:51:46.244361+00:00"
        }
      },
      "execution_count": null,
      "source": "def f(x):\n  return np.log2(x)\nx = np.linspace(0.001,256, num=1000)\nplt.plot(x,f(x))",
      "outputs": []
    },
    {
      "id": "7787b757-31b8-4a0f-895d-96bd5980fcf7",
      "cell_type": "code",
      "metadata": {
        "noteable": {
          "cell_type": "code",
          "output_collection_id": "c4c1bc93-6d7b-42f0-86fd-103c86df5234"
        },
        "ExecuteTime": {
          "end_time": "2023-07-02T18:52:29.397531+00:00",
          "start_time": "2023-07-02T18:52:28.986119+00:00"
        }
      },
      "execution_count": null,
      "source": "def H(x):\n  Y = np.zeros(len(x))\n  for idx,x in enumerate(x):\n    if x>=0:\n      Y[idx]=1\n  return Y\nN=1000\nx = np.linspace(-10,10, num=N)\ny = H(x)\nplt.plot(x,y)",
      "outputs": []
    }
  ]
}
