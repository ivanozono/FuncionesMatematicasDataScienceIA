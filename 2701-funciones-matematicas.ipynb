{
  "nbformat": 4,
  "nbformat_minor": 5,
  "metadata": {
    "noteable-chatgpt": {
      "create_notebook": {
        "openai_conversation_id": "8e1130d9-6883-5e66-bd37-5f80261cd4de",
        "openai_ephemeral_user_id": "f4100e82-ce6d-50e9-8938-a98361474c54",
        "openai_subdivision1_iso_code": "MX-BCN"
      }
    },
    "noteable": {
      "last_transaction_id": "c72620ce-1850-4a20-b7f1-6e9bcd758543"
    }
  },
  "cells": [
    {
      "id": "92b87f4b-fa7a-4450-be68-d4eb11ede15d",
      "cell_type": "markdown",
      "source": "# Características de las Funciones Matemáticas\n\nEn este notebook, vamos a explorar las características de las funciones matemáticas. Las funciones son una parte fundamental de las matemáticas y se utilizan en una amplia variedad de aplicaciones, desde la física hasta la informática y la economía.\n\nVamos a cubrir los siguientes temas:\n\n1. Variables y constantes en funciones\n2. Dominio y recorrido de una función\n3. Continuidad de una función\n4. Monotonía: funciones crecientes y decrecientes\n5. Curvatura: concavidad y convexidad de una función\n6. Funciones pares e impares\n\nEste notebook está diseñado para un nivel de Senior Data Scientist, por lo que asumiremos un cierto nivel de familiaridad con los conceptos matemáticos y de programación. Sin embargo, intentaremos explicar todo de manera clara y detallada.",
      "metadata": {
        "noteable": {
          "cell_type": "markdown"
        }
      }
    },
    {
      "id": "1893e87c-9f44-4097-8b3e-c6e3c6c6be12",
      "cell_type": "markdown",
      "source": "## 1. Variables and Constants in Functions\n\nIn mathematical functions, we often deal with variables and constants. Variables are symbols that represent unspecified numbers or values, while constants are values that never change. For example, in the function f(x) = 2x + 3, 'x' is a variable and '2' and '3' are constants.\n\nLet's define a simple Python function to illustrate this concept.",
      "metadata": {
        "noteable": {
          "cell_type": "markdown"
        }
      }
    },
    {
      "id": "e3267bf3-82df-4c47-b83e-e9bbf22c9535",
      "cell_type": "code",
      "metadata": {
        "noteable": {
          "cell_type": "code",
          "output_collection_id": "58762dc9-0cc9-4314-a7a3-ec2b6fd2846f"
        },
        "ExecuteTime": {
          "end_time": "2023-07-03T00:18:40.153267+00:00",
          "start_time": "2023-07-03T00:18:39.995146+00:00"
        }
      },
      "execution_count": null,
      "source": "def f(x):\n    \"\"\"\n    This function takes a number x, multiplies it by 2 and adds 3.\n\n    Parameters:\n    x (float): A number\n\n    Returns:\n    float: The result of the function\n    \"\"\"\n    return 2*x + 3\n\n# Test the function with some values\nprint(f(0))  # Expected output: 3\nprint(f(1))  # Expected output: 5\nprint(f(2))  # Expected output: 7",
      "outputs": []
    },
    {
      "id": "b8d32fbe-aaef-447a-aaf8-ef0491e84268",
      "cell_type": "markdown",
      "source": "## 2. Domain and Range of a Function\n\nThe domain of a function is the set of all possible input values (often represented by the variable x) that will output a valid number. The range of a function is the set of all possible output values (often represented by the variable y).\n\nFor example, the domain of the function f(x) = sqrt(x) is all non-negative numbers, because you can't take the square root of a negative number (in the real number system). The range of this function is also all non-negative numbers, because the square root of a number is always non-negative.\n\nLet's define a Python function to calculate the square root of a number and test it with some values.",
      "metadata": {
        "noteable": {
          "cell_type": "markdown"
        }
      }
    },
    {
      "id": "1cdd2780-4f44-474e-9abd-2c0458755a42",
      "cell_type": "code",
      "metadata": {
        "noteable": {
          "cell_type": "code",
          "output_collection_id": "3d4fef02-3859-4217-915e-17b4c247795f"
        },
        "ExecuteTime": {
          "end_time": "2023-07-03T00:19:36.107269+00:00",
          "start_time": "2023-07-03T00:19:35.949500+00:00"
        }
      },
      "execution_count": null,
      "source": "import math\n\ndef g(x):\n    \"\"\"\n    This function takes a number x and returns its square root.\n\n    Parameters:\n    x (float): A non-negative number\n\n    Returns:\n    float: The square root of x\n    \"\"\"\n    if x < 0:\n        raise ValueError('Cannot calculate the square root of a negative number')\n    return math.sqrt(x)\n\n# Test the function with some values\nprint(g(0))  # Expected output: 0.0\nprint(g(1))  # Expected output: 1.0\nprint(g(4))  # Expected output: 2.0",
      "outputs": []
    },
    {
      "id": "d0d49ff4-e247-4329-a5cb-49612587b0c0",
      "cell_type": "markdown",
      "source": "## 3. Continuity of a Function\n\nA function is said to be continuous at a point if the limit of the function as x approaches that point from both directions is equal to the value of the function at that point. In simpler terms, a function is continuous if you can draw it without lifting your pen from the paper.\n\nFor example, the function f(x) = x^2 is continuous for all real numbers, because for any given x, as we get closer and closer to x, the value of x^2 also gets closer and closer to the value at x.\n\nLet's define a Python function to calculate the square of a number and plot it to visualize its continuity.",
      "metadata": {
        "noteable": {
          "cell_type": "markdown"
        }
      }
    },
    {
      "id": "9785b2c6-6d5b-4976-89d2-f99d680870d8",
      "cell_type": "code",
      "metadata": {
        "noteable": {
          "cell_type": "code",
          "output_collection_id": "6c63c89b-a91e-4f2a-b5a5-8c281ec076b3"
        },
        "ExecuteTime": {
          "end_time": "2023-07-03T00:21:02.947144+00:00",
          "start_time": "2023-07-03T00:21:02.048449+00:00"
        }
      },
      "execution_count": null,
      "source": "import matplotlib.pyplot as plt\nimport numpy as np\n\ndef h(x):\n    \"\"\"\n    This function takes a number x and returns its square.\n\n    Parameters:\n    x (float): A number\n\n    Returns:\n    float: The square of x\n    \"\"\"\n    return x**2\n\n# Generate an array of x values from -10 to 10\nx_values = np.linspace(-10, 10, 400)\ny_values = h(x_values)\n\n# Create the plot\nplt.figure(figsize=(10, 6))\nplt.plot(x_values, y_values)\nplt.title('Plot of the function f(x) = x^2')\nplt.xlabel('x')\nplt.ylabel('f(x)')\nplt.grid(True)\nplt.show()",
      "outputs": []
    }
  ]
}