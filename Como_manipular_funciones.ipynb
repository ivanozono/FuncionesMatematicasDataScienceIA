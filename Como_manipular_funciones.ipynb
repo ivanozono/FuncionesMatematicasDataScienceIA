{
  "nbformat": 4,
  "nbformat_minor": 5,
  "metadata": {
    "noteable-chatgpt": {
      "create_notebook": {
        "openai_conversation_id": "8e1130d9-6883-5e66-bd37-5f80261cd4de",
        "openai_ephemeral_user_id": "f4100e82-ce6d-50e9-8938-a98361474c54",
        "openai_subdivision1_iso_code": "MX-BCN"
      }
    },
    "noteable": {
      "last_transaction_id": "31b4cef1-3cfa-47ae-8b73-8764aab8b556"
    },
    "selected_hardware_size": "small"
  },
  "cells": [
    {
      "id": "397c96a9-8c4a-49d0-9123-064570786c19",
      "cell_type": "markdown",
      "source": "# Manipulating Mathematical Functions\n\nIn this notebook, we will explore how to manipulate mathematical functions, a crucial skill in data science and artificial intelligence. We will cover vertical and horizontal shifts, stretching and compressing, and reflections of functions. We will use Python and its popular libraries such as NumPy and Matplotlib for our demonstrations.",
      "metadata": {
        "noteable": {
          "cell_type": "markdown"
        }
      }
    },
    {
      "id": "3d9e663d-046f-4cd6-b516-3310a277af86",
      "cell_type": "markdown",
      "source": "## Dependencies\n\nFirst, let's import the necessary libraries for our notebook.",
      "metadata": {
        "noteable": {
          "cell_type": "markdown"
        }
      }
    },
    {
      "id": "c1b1bfff-522f-49cc-a296-8e77463ddd1d",
      "cell_type": "code",
      "metadata": {
        "noteable": {
          "cell_type": "code",
          "output_collection_id": "7ab30b34-356a-46b9-b97d-c1e2f3c415a8"
        },
        "ExecuteTime": {
          "end_time": "2023-07-03T00:06:04.822434+00:00",
          "start_time": "2023-07-03T00:06:04.666390+00:00"
        }
      },
      "execution_count": null,
      "source": "import numpy as np\nimport matplotlib.pyplot as plt",
      "outputs": []
    },
    {
      "id": "a0738194-384a-4af0-b269-bc15e64ce753",
      "cell_type": "markdown",
      "source": "## Vertical and Horizontal Shifts\n\nWe can shift the graph of a function vertically or horizontally by adding or subtracting a constant 'c' to the function or its variable. Let's illustrate this with some examples.",
      "metadata": {
        "noteable": {
          "cell_type": "markdown"
        }
      }
    },
    {
      "id": "6ed0a9f8-d831-4fd7-af32-53381d45cd5c",
      "cell_type": "code",
      "metadata": {
        "noteable": {
          "cell_type": "code",
          "output_collection_id": "9b309582-c07d-49ee-8d44-04939ac002e4"
        },
        "ExecuteTime": {
          "end_time": "2023-07-03T00:06:11.565778+00:00",
          "start_time": "2023-07-03T00:06:10.944243+00:00"
        }
      },
      "execution_count": null,
      "source": "# Define the function and the constant\ndef f(x): return np.sin(x)\nc = 2\n\n# Generate x values\nx = np.linspace(-15, 15, num=1000)\n\n# Apply the shifts to the function\ny1 = f(x) + c  # Shift up by c\ny2 = f(x) - c  # Shift down by c\ny3 = f(x - c)  # Shift right by c\ny4 = f(x + c)  # Shift left by c\n\n# Plot the original function and the shifted functions\nplt.figure(figsize=(12, 8))\nplt.plot(x, f(x), label='Original function')\nplt.plot(x, y1, label='Shift up by c')\nplt.plot(x, y2, label='Shift down by c')\nplt.plot(x, y3, label='Shift right by c')\nplt.plot(x, y4, label='Shift left by c')\n\n# Add grid, legend, and axis lines\nplt.grid(True)\nplt.legend()\nplt.axhline(0, color='black',linewidth=0.5)\nplt.axvline(0, color='black',linewidth=0.5)\nplt.title('Vertical and Horizontal Shifts')\nplt.show()",
      "outputs": []
    },
    {
      "id": "2986438e-6f62-475c-b1ae-0171599ed7c0",
      "cell_type": "markdown",
      "source": "## Stretching and Compressing\n\nWe can stretch or compress the graph of a function by multiplying the function or its variable by a constant 'c'. A stretch or compression is vertical if the function is multiplied by 'c' and horizontal if the variable is multiplied by 'c'. Let's illustrate this with some examples.",
      "metadata": {
        "noteable": {
          "cell_type": "markdown"
        }
      }
    },
    {
      "id": "1ffe6ac7-ae9d-4795-833a-c10cc708513f",
      "cell_type": "code",
      "metadata": {
        "noteable": {
          "cell_type": "code",
          "output_collection_id": "c34a3912-f310-4b39-9ad6-c1e1415d4efb"
        },
        "ExecuteTime": {
          "end_time": "2023-07-03T00:06:23.313369+00:00",
          "start_time": "2023-07-03T00:06:22.579291+00:00"
        }
      },
      "execution_count": null,
      "source": "# Apply the stretches and compressions to the function\ny1 = c * f(x)  # Vertical stretch by c\ny2 = (1/c) * f(x)  # Vertical compression by c\ny3 = f(c * x)  # Horizontal compression by c\ny4 = f((1/c) * x)  # Horizontal stretch by c\n\n# Plot the original function and the stretched/compressed functions\nplt.figure(figsize=(12, 8))\nplt.plot(x, f(x), label='Original function')\nplt.plot(x, y1, label='Vertical stretch by c')\nplt.plot(x, y2, label='Vertical compression by c')\nplt.plot(x, y3, label='Horizontal compression by c')\nplt.plot(x, y4, label='Horizontal stretch by c')\n\n# Add grid, legend, and axis lines\nplt.grid(True)\nplt.legend()\nplt.axhline(0, color='black',linewidth=0.5)\nplt.axvline(0, color='black',linewidth=0.5)\nplt.title('Stretching and Compressing')\nplt.show()",
      "outputs": []
    },
    {
      "id": "94b07031-d41c-429d-87c5-483de96d55bf",
      "cell_type": "markdown",
      "source": "## Reflections\n\nWe can reflect the graph of a function about the x-axis or y-axis by multiplying the function or its variable by -1. A reflection is about the x-axis if the function is multiplied by -1 and about the y-axis if the variable is multiplied by -1. Let's illustrate this with some examples.",
      "metadata": {
        "noteable": {
          "cell_type": "markdown"
        }
      }
    },
    {
      "id": "cddd75da-02ec-4f22-b372-8af94d8717d2",
      "cell_type": "code",
      "metadata": {
        "noteable": {
          "cell_type": "code",
          "output_collection_id": "a5a81dc0-82f2-43c3-b522-8d75361976b7"
        },
        "ExecuteTime": {
          "end_time": "2023-07-03T00:06:31.795185+00:00",
          "start_time": "2023-07-03T00:06:31.245890+00:00"
        }
      },
      "execution_count": null,
      "source": "# Apply the reflections to the function\ny1 = -f(x)  # Reflection about the x-axis\ny2 = f(-x)  # Reflection about the y-axis\n\n# Plot the original function and the reflected functions\nplt.figure(figsize=(12, 8))\nplt.plot(x, f(x), label='Original function')\nplt.plot(x, y1, label='Reflection about the x-axis')\nplt.plot(x, y2, label='Reflection about the y-axis')\n\n# Add grid, legend, and axis lines\nplt.grid(True)\nplt.legend()\nplt.axhline(0, color='black',linewidth=0.5)\nplt.axvline(0, color='black',linewidth=0.5)\nplt.title('Reflections')\nplt.show()",
      "outputs": []
    },
    {
      "id": "1b5202db-88aa-4061-aa66-d1babc8c16f2",
      "cell_type": "markdown",
      "source": "## Conclusion\n\nIn this notebook, we learned how to manipulate mathematical functions, including shifting, stretching, compressing, and reflecting. These operations are fundamental in data science and artificial intelligence, especially in the field of machine learning where we often need to adjust the shape of our data or model's function to better fit our data.",
      "metadata": {
        "noteable": {
          "cell_type": "markdown"
        }
      }
    }
  ]
}