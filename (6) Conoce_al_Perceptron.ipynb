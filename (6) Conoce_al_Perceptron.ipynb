{
  "nbformat": 4,
  "nbformat_minor": 5,
  "metadata": {
    "noteable-chatgpt": {
      "create_notebook": {
        "openai_conversation_id": "8e1130d9-6883-5e66-bd37-5f80261cd4de",
        "openai_ephemeral_user_id": "f4100e82-ce6d-50e9-8938-a98361474c54",
        "openai_subdivision1_iso_code": "MX-BCN"
      }
    },
    "noteable": {
      "last_transaction_id": "1c303aa2-a6e3-48a0-9b3d-b245c8746c6e"
    },
    "selected_hardware_size": "small"
  },
  "cells": [
    {
      "id": "33f76c4b-336f-47b2-a4bb-6ce40e273ffb",
      "cell_type": "markdown",
      "source": "# Conoce al Perceptrón\n\nEn este notebook, exploraremos el concepto de perceptrón, un tipo de neurona artificial en Machine Learning. El perceptrón es un algoritmo para el aprendizaje supervisado de clasificadores binarios. Fue desarrollado por Frank Rosenblatt en 1957.\n\n## Contenido\n\n1. Definición y características del Perceptrón\n2. Implementación de un Perceptrón simple en Python\n3. Aplicaciones y limitaciones del Perceptrón\n4. Conclusión\n\nComencemos con una introducción al perceptrón.",
      "metadata": {
        "noteable": {
          "cell_type": "markdown"
        }
      }
    },
    {
      "id": "d7ef29a9-f7d2-4a32-9217-765fff9b4baf",
      "cell_type": "markdown",
      "source": "## 1. Definición y características del Perceptrón\n\nEl perceptrón es un tipo de clasificador lineal, es decir, un algoritmo de clasificación que hace sus predicciones basándose en una función de predicción lineal. Se utiliza principalmente en el campo del aprendizaje automático para la clasificación binaria. Aunque es bastante simple, el perceptrón puede enseñarnos mucho sobre cómo funcionan las redes neuronales más complejas.\n\nEl perceptrón recibe varias entradas y produce una salida. Cada entrada tiene un peso asociado que se ajusta durante el proceso de aprendizaje. Se calcula la suma ponderada de las entradas. Esta suma se pasa a través de una función de activación para producir la salida.\n\nImaginemos que el perceptrón es como el motor de un coche. Las entradas son como el combustible y el aire que entran en el motor, los pesos son como la cantidad de cada uno que se permite entrar, y la salida es la potencia del motor.",
      "metadata": {
        "noteable": {
          "cell_type": "markdown"
        }
      }
    },
    {
      "id": "10e10a64-cdb1-438b-ac70-84385c18e06f",
      "cell_type": "code",
      "metadata": {
        "noteable": {
          "cell_type": "code",
          "output_collection_id": "10f2939f-9794-4687-97cb-2842d592f6ab"
        },
        "ExecuteTime": {
          "end_time": "2023-07-03T19:02:38.938847+00:00",
          "start_time": "2023-07-03T19:02:38.779969+00:00"
        }
      },
      "execution_count": null,
      "source": "import numpy as np\n\nclass Perceptron:\n    def __init__(self, input_length, weights=None):\n        \"\"\"\n        Constructor for the Perceptron class.\n\n        Parameters:\n        input_length (int): The number of inputs for the perceptron.\n        weights (list, optional): The weights for the inputs. Defaults to None.\n        \"\"\"\n        if weights==None:\n            self.weights = np.ones(input_length) * 0.5\n        else:\n            self.weights = weights\n\n    def __call__(self, in_data):\n        \"\"\"\n        Method to calculate the output of the perceptron based on the inputs.\n\n        Parameters:\n        in_data (list): The inputs for the perceptron.\n\n        Returns:\n        float: The output of the perceptron.\n        \"\"\"\n        weighted_input = self.weights * in_data\n        weighted_sum = weighted_input.sum()\n        return weighted_sum",
      "outputs": []
    },
    {
      "id": "95e19aaa-e28f-41df-980d-c1999d649f45",
      "cell_type": "markdown",
      "source": "## 3. Aplicaciones y limitaciones del Perceptrón\n\nEl perceptrón es un componente básico de las redes neuronales más grandes, y entender cómo funciona puede ayudar a entender cómo funcionan las redes neuronales en general. A pesar de su simplicidad, el perceptrón puede ser sorprendentemente poderoso cuando se combina con otros perceptrones en una red neuronal.\n\nSin embargo, el perceptrón tiene sus limitaciones. Por ejemplo, no puede resolver problemas que no son linealmente separables, como el problema del XOR. Además, el perceptrón converge solo si los datos son linealmente separables y la tasa de aprendizaje es lo suficientemente pequeña.\n\nEn la actualidad, los perceptrones se utilizan en una variedad de aplicaciones de Machine Learning, desde el reconocimiento de voz hasta la visión por computadora. Sin embargo, en la mayoría de los casos, se utilizan como bloques de construcción para redes neuronales más complejas.",
      "metadata": {
        "noteable": {
          "cell_type": "markdown"
        }
      }
    },
    {
      "id": "97d4490d-d160-44bd-8c29-a451797ab5c4",
      "cell_type": "markdown",
      "source": "## 4. Conclusión\n\nEl perceptrón es una herramienta poderosa y fundamental en el campo del aprendizaje automático. Aunque es simple, ofrece una introducción a los conceptos que son fundamentales para las redes neuronales más complejas. A pesar de sus limitaciones, el perceptrón ha demostrado ser útil en una variedad de aplicaciones y es un componente esencial de muchas arquitecturas de redes neuronales modernas.",
      "metadata": {
        "noteable": {
          "cell_type": "markdown"
        }
      }
    }
  ]
}
