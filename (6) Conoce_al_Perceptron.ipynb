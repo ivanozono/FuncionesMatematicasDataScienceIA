{
  "nbformat": 4,
  "nbformat_minor": 5,
  "metadata": {
    "noteable-chatgpt": {
      "create_notebook": {
        "openai_conversation_id": "8e1130d9-6883-5e66-bd37-5f80261cd4de",
        "openai_ephemeral_user_id": "f4100e82-ce6d-50e9-8938-a98361474c54",
        "openai_subdivision1_iso_code": "MX-BCN"
      }
    },
    "noteable": {
      "last_transaction_id": "1c303aa2-a6e3-48a0-9b3d-b245c8746c6e"
    },
    "selected_hardware_size": "small",
    "colab": {
      "provenance": [],
      "include_colab_link": true
    },
    "language_info": {
      "name": "python"
    },
    "kernelspec": {
      "name": "python3",
      "display_name": "Python 3"
    }
  },
  "cells": [
    {
      "cell_type": "markdown",
      "metadata": {
        "id": "view-in-github",
        "colab_type": "text"
      },
      "source": [
        "<a href=\"https://colab.research.google.com/github/ivanozono/MathFuncsDSciencieAI/blob/main/(6)%20Conoce_al_Perceptron.ipynb\" target=\"_parent\"><img src=\"https://colab.research.google.com/assets/colab-badge.svg\" alt=\"Open In Colab\"/></a>"
      ]
    },
    {
      "id": "33f76c4b-336f-47b2-a4bb-6ce40e273ffb",
      "cell_type": "markdown",
      "source": [
        "\n",
        "\n",
        "---\n",
        "**Meet the Perceptron**\n",
        "\n",
        "----\n",
        "\n",
        "We will explore the concept of the perceptron, a type of artificial neuron in Machine Learning. The perceptron is an algorithm for supervised learning of binary classifiers. It was developed by Frank Rosenblatt in 1957.\n",
        "\n",
        "\n"
      ],
      "metadata": {
        "noteable": {
          "cell_type": "markdown"
        },
        "id": "33f76c4b-336f-47b2-a4bb-6ce40e273ffb"
      }
    },
    {
      "id": "d7ef29a9-f7d2-4a32-9217-765fff9b4baf",
      "cell_type": "markdown",
      "source": [
        "---\n",
        "\n",
        "**Definition and characteristics of the Perceptron**\n",
        "\n",
        "---\n",
        "\n",
        "The perceptron is a type of linear classifier, that is, a classification algorithm that makes its predictions based on a linear prediction function. It is mainly used in the field of machine learning for binary classification.\n",
        "\n",
        "Although it is quite simple, the perceptron can teach us a lot about how more complex neural networks work.\n",
        "\n",
        "The perceptron receives several inputs and produces an output. Each input has an associated weight that is adjusted during the learning process. The weighted sum of the inputs is calculated. This sum is passed through an activation function to produce the output.\n",
        "\n",
        "Let's imagine that the perceptron is like the engine of a car. The inputs are like the fuel and air that enter the engine, the weights are like the amount of each that is allowed to enter, and the output is the power of the engine."
      ],
      "metadata": {
        "noteable": {
          "cell_type": "markdown"
        },
        "id": "d7ef29a9-f7d2-4a32-9217-765fff9b4baf"
      }
    },
    {
      "cell_type": "markdown",
      "source": [
        "---\n",
        "\n",
        "**Implementing the Perceptron Algorithm**\n",
        "\n",
        "---"
      ],
      "metadata": {
        "id": "nCIPdXo1MuTR"
      },
      "id": "nCIPdXo1MuTR"
    },
    {
      "id": "10e10a64-cdb1-438b-ac70-84385c18e06f",
      "cell_type": "code",
      "metadata": {
        "noteable": {
          "cell_type": "code",
          "output_collection_id": "10f2939f-9794-4687-97cb-2842d592f6ab"
        },
        "ExecuteTime": {
          "end_time": "2023-07-03T19:02:38.938847+00:00",
          "start_time": "2023-07-03T19:02:38.779969+00:00"
        },
        "id": "10e10a64-cdb1-438b-ac70-84385c18e06f"
      },
      "execution_count": null,
      "source": [
        "import numpy as np\n",
        "\n",
        "class Perceptron:\n",
        "    def __init__(self, input_length, weights=None):\n",
        "        \"\"\"\n",
        "        Constructor for the Perceptron class.\n",
        "\n",
        "        Parameters:\n",
        "        input_length (int): The number of inputs for the perceptron.\n",
        "        weights (list, optional): The weights for the inputs. Defaults to None.\n",
        "        \"\"\"\n",
        "        if weights==None:\n",
        "            self.weights = np.ones(input_length) * 0.5\n",
        "        else:\n",
        "            self.weights = weights\n",
        "\n",
        "    def __call__(self, in_data):\n",
        "        \"\"\"\n",
        "        Method to calculate the output of the perceptron based on the inputs.\n",
        "\n",
        "        Parameters:\n",
        "        in_data (list): The inputs for the perceptron.\n",
        "\n",
        "        Returns:\n",
        "        float: The output of the perceptron.\n",
        "        \"\"\"\n",
        "        weighted_input = self.weights * in_data\n",
        "        weighted_sum = weighted_input.sum()\n",
        "        return weighted_sum"
      ],
      "outputs": []
    },
    {
      "cell_type": "markdown",
      "source": [
        "\n",
        "\n",
        "This code snippet offers a basic implementation of the Perceptron, a binary classification algorithm, which can be considered a single-layer neural network.\n",
        "\n",
        "---\n",
        "\n",
        "**Code Explanation:**\n",
        "\n",
        "1. **Library Import:**\n",
        "  \n",
        "    `numpy` is imported to assist with numerical operations, especially vectorized operations which make computations more efficient.\n",
        "\n",
        "2. **Perceptron Class:**\n",
        "\n",
        "    - **Initialization:**\n",
        "      \n",
        "        The perceptron's constructor takes in the length of the input (number of features) and optionally, a set of weights. If weights are not provided, they are initialized to 0.5 for each input. The weights are stored as a numpy array for easy arithmetic operations.\n",
        "    \n",
        "    - **Calling the Perceptron:**\n",
        "       \n",
        "        The `__call__` method enables instances of the class to be called as functions. Here, it takes in the input data (or features) for the perceptron. The method calculates the weighted sum of the inputs and returns it. The dot product (or weighted sum) is a fundamental part of the perceptron's decision-making process, but note that in a complete implementation, you might further transform this sum using an activation function (like the step function) to determine the binary classification (0 or 1).\n",
        "\n",
        "3. **Weighted Sum Calculation:**\n",
        "   \n",
        "    The weighted sum (or dot product) of the input data and weights is computed in two steps:\n",
        "    - First, the element-wise product of weights and input data is calculated.\n",
        "    - Then, the sum of this product is returned. This sum gives an indication of how closely aligned the input data is with the perceptron's weights.\n",
        "\n",
        "---\n",
        "\n",
        "**Notes:**\n",
        "\n",
        "This code represents a foundational building block of neural networks. The perceptron, in its basic form, can perform binary classification. In practice, you'd introduce an activation function, such as the step function, to convert the perceptron's continuous output into a binary decision.\n",
        "\n",
        "To fully utilize the perceptron for learning, you'd further implement methods to adjust the weights based on the difference between predicted and actual outcomes, typically using a learning rate. This process is commonly termed as \"training the perceptron\"."
      ],
      "metadata": {
        "id": "S7Un6L6DMgR5"
      },
      "id": "S7Un6L6DMgR5"
    },
    {
      "id": "95e19aaa-e28f-41df-980d-c1999d649f45",
      "cell_type": "markdown",
      "source": [
        "---\n",
        "\n",
        "**Applications and Limitations of Perceptron**\n",
        "\n",
        "---\n",
        "\n",
        "The perceptron is a basic component of larger neural networks, and understanding how it works can help understand how neural networks work in general. Despite its simplicity, the perceptron can be surprisingly powerful when combined with other perceptrons in a neural network.\n",
        "\n",
        "However, the perceptron has its limitations. For example, it cannot solve problems that are not linearly separable, such as the XOR problem. Additionally, the perceptron only converges if the data is linearly separable and the learning rate is small enough.\n",
        "\n",
        "Currently, perceptrons are used in a variety of machine learning applications, from voice recognition to computer vision. However, in most cases, they are used as building blocks for more complex neural networks.\n",
        "\n",
        "The perceptron is a powerful and fundamental tool in the field of machine learning. Although it is simple, it provides an introduction to concepts that are fundamental to more complex neural networks. Despite its limitations, the perceptron has proven to be useful in a variety of applications and is an essential component of many modern neural network architectures."
      ],
      "metadata": {
        "noteable": {
          "cell_type": "markdown"
        },
        "id": "95e19aaa-e28f-41df-980d-c1999d649f45"
      }
    }
  ]
}