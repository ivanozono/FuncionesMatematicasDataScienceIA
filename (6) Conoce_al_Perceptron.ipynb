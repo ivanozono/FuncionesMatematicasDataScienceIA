{
  "nbformat": 4,
  "nbformat_minor": 5,
  "metadata": {
    "noteable-chatgpt": {
      "create_notebook": {
        "openai_conversation_id": "8e1130d9-6883-5e66-bd37-5f80261cd4de",
        "openai_ephemeral_user_id": "f4100e82-ce6d-50e9-8938-a98361474c54",
        "openai_subdivision1_iso_code": "MX-BCN"
      }
    },
    "noteable": {
      "last_transaction_id": "1c303aa2-a6e3-48a0-9b3d-b245c8746c6e"
    },
    "selected_hardware_size": "small",
    "colab": {
      "provenance": [],
      "include_colab_link": true
    },
    "language_info": {
      "name": "python"
    },
    "kernelspec": {
      "name": "python3",
      "display_name": "Python 3"
    }
  },
  "cells": [
    {
      "cell_type": "markdown",
      "metadata": {
        "id": "view-in-github",
        "colab_type": "text"
      },
      "source": [
        "<a href=\"https://colab.research.google.com/github/ivanozono/MathFuncsDSciencieAI/blob/main/(6)%20Conoce_al_Perceptron.ipynb\" target=\"_parent\"><img src=\"https://colab.research.google.com/assets/colab-badge.svg\" alt=\"Open In Colab\"/></a>"
      ]
    },
    {
      "id": "33f76c4b-336f-47b2-a4bb-6ce40e273ffb",
      "cell_type": "markdown",
      "source": [
        "\n",
        "---\n",
        "**Meet the Perceptron**\n",
        "\n",
        "----\n",
        "En este notebook, exploraremos el concepto de perceptrón, un tipo de neurona artificial en Machine Learning. El perceptrón es un algoritmo para el aprendizaje supervisado de clasificadores binarios. Fue desarrollado por Frank Rosenblatt en 1957.\n",
        "\n",
        "## Contenido\n",
        "\n",
        "1. Definición y características del Perceptrón\n",
        "2. Implementación de un Perceptrón simple en Python\n",
        "3. Aplicaciones y limitaciones del Perceptrón\n",
        "4. Conclusión\n",
        "\n",
        "Comencemos con una introducción al perceptrón.\n",
        "\n",
        "---\n",
        "**Meet the Perceptron**\n",
        "\n",
        "----\n",
        "\n",
        "We will explore the concept of the perceptron, a type of artificial neuron in Machine Learning. The perceptron is an algorithm for supervised learning of binary classifiers. It was developed by Frank Rosenblatt in 1957.\n",
        "Content\n",
        "Definition and characteristics of the Perceptron\n",
        "Implementation of a simple Perceptron in Python\n",
        "Applications and limitations of the Perceptron\n",
        "Conclusion\n",
        "\n"
      ],
      "metadata": {
        "noteable": {
          "cell_type": "markdown"
        },
        "id": "33f76c4b-336f-47b2-a4bb-6ce40e273ffb"
      }
    },
    {
      "id": "d7ef29a9-f7d2-4a32-9217-765fff9b4baf",
      "cell_type": "markdown",
      "source": [
        "## 1. Definición y características del Perceptrón\n",
        "\n",
        "El perceptrón es un tipo de clasificador lineal, es decir, un algoritmo de clasificación que hace sus predicciones basándose en una función de predicción lineal. Se utiliza principalmente en el campo del aprendizaje automático para la clasificación binaria. Aunque es bastante simple, el perceptrón puede enseñarnos mucho sobre cómo funcionan las redes neuronales más complejas.\n",
        "\n",
        "El perceptrón recibe varias entradas y produce una salida. Cada entrada tiene un peso asociado que se ajusta durante el proceso de aprendizaje. Se calcula la suma ponderada de las entradas. Esta suma se pasa a través de una función de activación para producir la salida.\n",
        "\n",
        "Imaginemos que el perceptrón es como el motor de un coche. Las entradas son como el combustible y el aire que entran en el motor, los pesos son como la cantidad de cada uno que se permite entrar, y la salida es la potencia del motor."
      ],
      "metadata": {
        "noteable": {
          "cell_type": "markdown"
        },
        "id": "d7ef29a9-f7d2-4a32-9217-765fff9b4baf"
      }
    },
    {
      "cell_type": "markdown",
      "source": [
        "---\n",
        "\n",
        "**Implementing the Perceptron Algorithm**\n",
        "\n",
        "---"
      ],
      "metadata": {
        "id": "nCIPdXo1MuTR"
      },
      "id": "nCIPdXo1MuTR"
    },
    {
      "id": "10e10a64-cdb1-438b-ac70-84385c18e06f",
      "cell_type": "code",
      "metadata": {
        "noteable": {
          "cell_type": "code",
          "output_collection_id": "10f2939f-9794-4687-97cb-2842d592f6ab"
        },
        "ExecuteTime": {
          "end_time": "2023-07-03T19:02:38.938847+00:00",
          "start_time": "2023-07-03T19:02:38.779969+00:00"
        },
        "id": "10e10a64-cdb1-438b-ac70-84385c18e06f"
      },
      "execution_count": 1,
      "source": [
        "import numpy as np\n",
        "\n",
        "class Perceptron:\n",
        "    def __init__(self, input_length, weights=None):\n",
        "        \"\"\"\n",
        "        Constructor for the Perceptron class.\n",
        "\n",
        "        Parameters:\n",
        "        input_length (int): The number of inputs for the perceptron.\n",
        "        weights (list, optional): The weights for the inputs. Defaults to None.\n",
        "        \"\"\"\n",
        "        if weights==None:\n",
        "            self.weights = np.ones(input_length) * 0.5\n",
        "        else:\n",
        "            self.weights = weights\n",
        "\n",
        "    def __call__(self, in_data):\n",
        "        \"\"\"\n",
        "        Method to calculate the output of the perceptron based on the inputs.\n",
        "\n",
        "        Parameters:\n",
        "        in_data (list): The inputs for the perceptron.\n",
        "\n",
        "        Returns:\n",
        "        float: The output of the perceptron.\n",
        "        \"\"\"\n",
        "        weighted_input = self.weights * in_data\n",
        "        weighted_sum = weighted_input.sum()\n",
        "        return weighted_sum"
      ],
      "outputs": []
    },
    {
      "cell_type": "markdown",
      "source": [
        "\n",
        "\n",
        "This code snippet offers a basic implementation of the Perceptron, a binary classification algorithm, which can be considered a single-layer neural network.\n",
        "\n",
        "---\n",
        "\n",
        "**Code Explanation:**\n",
        "\n",
        "1. **Library Import:**\n",
        "  \n",
        "    `numpy` is imported to assist with numerical operations, especially vectorized operations which make computations more efficient.\n",
        "\n",
        "2. **Perceptron Class:**\n",
        "\n",
        "    - **Initialization:**\n",
        "      \n",
        "        The perceptron's constructor takes in the length of the input (number of features) and optionally, a set of weights. If weights are not provided, they are initialized to 0.5 for each input. The weights are stored as a numpy array for easy arithmetic operations.\n",
        "    \n",
        "    - **Calling the Perceptron:**\n",
        "       \n",
        "        The `__call__` method enables instances of the class to be called as functions. Here, it takes in the input data (or features) for the perceptron. The method calculates the weighted sum of the inputs and returns it. The dot product (or weighted sum) is a fundamental part of the perceptron's decision-making process, but note that in a complete implementation, you might further transform this sum using an activation function (like the step function) to determine the binary classification (0 or 1).\n",
        "\n",
        "3. **Weighted Sum Calculation:**\n",
        "   \n",
        "    The weighted sum (or dot product) of the input data and weights is computed in two steps:\n",
        "    - First, the element-wise product of weights and input data is calculated.\n",
        "    - Then, the sum of this product is returned. This sum gives an indication of how closely aligned the input data is with the perceptron's weights.\n",
        "\n",
        "---\n",
        "\n",
        "**Notes:**\n",
        "\n",
        "This code represents a foundational building block of neural networks. The perceptron, in its basic form, can perform binary classification. In practice, you'd introduce an activation function, such as the step function, to convert the perceptron's continuous output into a binary decision.\n",
        "\n",
        "To fully utilize the perceptron for learning, you'd further implement methods to adjust the weights based on the difference between predicted and actual outcomes, typically using a learning rate. This process is commonly termed as \"training the perceptron\"."
      ],
      "metadata": {
        "id": "S7Un6L6DMgR5"
      },
      "id": "S7Un6L6DMgR5"
    },
    {
      "id": "95e19aaa-e28f-41df-980d-c1999d649f45",
      "cell_type": "markdown",
      "source": [
        "## 3. Aplicaciones y limitaciones del Perceptrón\n",
        "\n",
        "El perceptrón es un componente básico de las redes neuronales más grandes, y entender cómo funciona puede ayudar a entender cómo funcionan las redes neuronales en general. A pesar de su simplicidad, el perceptrón puede ser sorprendentemente poderoso cuando se combina con otros perceptrones en una red neuronal.\n",
        "\n",
        "Sin embargo, el perceptrón tiene sus limitaciones. Por ejemplo, no puede resolver problemas que no son linealmente separables, como el problema del XOR. Además, el perceptrón converge solo si los datos son linealmente separables y la tasa de aprendizaje es lo suficientemente pequeña.\n",
        "\n",
        "En la actualidad, los perceptrones se utilizan en una variedad de aplicaciones de Machine Learning, desde el reconocimiento de voz hasta la visión por computadora. Sin embargo, en la mayoría de los casos, se utilizan como bloques de construcción para redes neuronales más complejas."
      ],
      "metadata": {
        "noteable": {
          "cell_type": "markdown"
        },
        "id": "95e19aaa-e28f-41df-980d-c1999d649f45"
      }
    },
    {
      "id": "97d4490d-d160-44bd-8c29-a451797ab5c4",
      "cell_type": "markdown",
      "source": [
        "## 4. Conclusión\n",
        "\n",
        "El perceptrón es una herramienta poderosa y fundamental en el campo del aprendizaje automático. Aunque es simple, ofrece una introducción a los conceptos que son fundamentales para las redes neuronales más complejas. A pesar de sus limitaciones, el perceptrón ha demostrado ser útil en una variedad de aplicaciones y es un componente esencial de muchas arquitecturas de redes neuronales modernas."
      ],
      "metadata": {
        "noteable": {
          "cell_type": "markdown"
        },
        "id": "97d4490d-d160-44bd-8c29-a451797ab5c4"
      }
    }
  ]
}