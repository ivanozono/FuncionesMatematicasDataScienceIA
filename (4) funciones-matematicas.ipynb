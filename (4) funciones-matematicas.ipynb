{
  "nbformat": 4,
  "nbformat_minor": 5,
  "metadata": {
    "noteable-chatgpt": {
      "create_notebook": {
        "openai_conversation_id": "8e1130d9-6883-5e66-bd37-5f80261cd4de",
        "openai_ephemeral_user_id": "f4100e82-ce6d-50e9-8938-a98361474c54",
        "openai_subdivision1_iso_code": "MX-BCN"
      }
    },
    "noteable": {
      "last_transaction_id": "3cc632e1-cc54-48ae-8bcb-e9ffc04b5e0b"
    },
    "selected_hardware_size": "small"
  },
  "cells": [
    {
      "id": "038ef408-89f7-4c72-9746-3dfba56d4e99",
      "cell_type": "markdown",
      "source": "# Características de las Funciones Matemáticas\n\nEn este notebook, exploraremos las características fundamentales de las funciones matemáticas. Este es un concepto esencial en matemáticas y ciencia de datos, ya que las funciones nos permiten modelar relaciones entre variables y realizar predicciones.\n\nLas funciones matemáticas son una relación entre dos conjuntos de números, donde a cada número del primer conjunto (dominio) le corresponde un único número del segundo conjunto (codominio). Las funciones se pueden representar de varias formas, incluyendo fórmulas algebraicas, gráficas y tablas de valores.\n\nA lo largo de este notebook, exploraremos las siguientes características de las funciones:\n\n1. Variables y Constantes\n2. Dominio y Recorrido\n3. Continuidad\n4. Monotonía\n5. Curvatura\n6. Funciones Pares e Impares\n\nAdemás, utilizaremos Python, una poderosa herramienta para la ciencia de datos, para visualizar y analizar funciones matemáticas. Cada paso del proceso será explicado en detalle para facilitar la comprensión.",
      "metadata": {
        "noteable": {
          "cell_type": "markdown"
        }
      }
    },
    {
      "id": "bd41f39c-d8c8-490a-b571-ebade1dea68b",
      "cell_type": "code",
      "metadata": {
        "noteable": {
          "cell_type": "code",
          "output_collection_id": "dbd22589-9f53-479a-817d-07d455314cde"
        },
        "ExecuteTime": {
          "end_time": "2023-07-03T00:23:53.043698+00:00",
          "start_time": "2023-07-03T00:23:52.040482+00:00"
        }
      },
      "execution_count": null,
      "source": "# Importing necessary libraries\nimport numpy as np\nimport matplotlib.pyplot as plt\n\n# This function will be used as an example throughout the notebook\ndef f(x):\n    return x**2 + 2*x + 1\n\n# Generate x values\nx = np.linspace(-10, 10, 400)\n\n# Generate y values\ny = f(x)\n\n# Create the plot\nplt.figure(figsize=(10, 6))\nplt.plot(x, y)\nplt.title('Plot of the function f(x) = x^2 + 2x + 1')\nplt.xlabel('x')\nplt.ylabel('f(x)')\nplt.grid(True)\nplt.show()",
      "outputs": []
    },
    {
      "id": "29274942-f464-436b-acad-b151e5ebb736",
      "cell_type": "markdown",
      "source": "## Variables and Constants\n\nIn the function $f(x) = x^2 + 2x + 1$, $x$ is a variable and $1$ is a constant. The variable $x$ can take any real number as its value, while the constant remains the same for all $x$.\n\nIn the context of data science, variables often represent features or attributes of the data, while constants can represent parameters or coefficients in a model.",
      "metadata": {
        "noteable": {
          "cell_type": "markdown"
        }
      }
    },
    {
      "id": "fa682027-7646-4afb-acec-026cdc93ac66",
      "cell_type": "markdown",
      "source": "## Domain and Range\n\nThe domain of a function is the set of all possible input values (x-values) that the function can accept. The range of a function is the set of all possible output values (y-values) that the function can produce.\n\nFor the function $f(x) = x^2 + 2x + 1$, the domain is all real numbers, and the range is all real numbers greater than or equal to 0. This is because the square of any real number is always non-negative.",
      "metadata": {
        "noteable": {
          "cell_type": "markdown"
        }
      }
    },
    {
      "id": "73bc2ab6-d827-4628-90da-6a1a72468093",
      "cell_type": "markdown",
      "source": "## Continuity\n\nA function is said to be continuous if it is defined for all values in its domain and there are no abrupt changes in its graph. In other words, you can draw the graph of a continuous function without lifting your pen from the paper.\n\nThe function $f(x) = x^2 + 2x + 1$ is continuous for all real numbers. As you can see from the plot above, the graph is a smooth curve with no breaks or jumps.",
      "metadata": {
        "noteable": {
          "cell_type": "markdown"
        }
      }
    },
    {
      "id": "eca23239-44c7-4bb9-a3f2-942a83205f21",
      "cell_type": "markdown",
      "source": "## Monotonicity\n\nA function is said to be monotonic if it is either entirely non-increasing or non-decreasing. A function is non-increasing (respectively, non-decreasing) if, for all x and y in its domain, if x ≤ y then f(x) ≥ f(y) (respectively, f(x) ≤ f(y)).\n\nThe function $f(x) = x^2 + 2x + 1$ is not monotonic because it first decreases and then increases. The turning point is at x = -1.",
      "metadata": {
        "noteable": {
          "cell_type": "markdown"
        }
      }
    },
    {
      "id": "c3c93c0d-bc4f-475a-8470-7a230b70dd5e",
      "cell_type": "markdown",
      "source": "## Curvature\n\nThe curvature of a function at a point is a measure of how fast the function changes direction at that point. It is defined as the reciprocal of the radius of the circular arc that best approximates the curve at that point.\n\nFor the function $f(x) = x^2 + 2x + 1$, the curvature changes as we move along the curve. At the turning point (x = -1), the curvature is at its maximum.",
      "metadata": {
        "noteable": {
          "cell_type": "markdown"
        }
      }
    },
    {
      "id": "205eec8c-078b-49e9-90bb-ed8f26378abb",
      "cell_type": "markdown",
      "source": "## Functions Pares e Impares\n\nIn mathematics, even functions and odd functions are functions which satisfy particular symmetry relations, with respect to taking additive inverses. They are important in many areas of mathematical analysis, especially the theory of power series and Fourier series.\n\nEven Function: A function $f(x)$ is called an even function if for any number x, f(x) = f(-x). The graph of an even function is symmetric with respect to the y-axis.\n\nOdd Function: A function $f(x)$ is called an odd function if for any number x, f(x) = -f(-x). The graph of an odd function is symmetric with respect to the origin.\n\nThe function $f(x) = x^2 + 2x + 1$ is neither even nor odd.",
      "metadata": {
        "noteable": {
          "cell_type": "markdown"
        }
      }
    },
    {
      "id": "21ebb300-3394-4bd0-bed4-c8d05c5bc6a6",
      "cell_type": "markdown",
      "source": "## Conclusion\n\nIn this notebook, we have explored the key characteristics of mathematical functions, using the function $f(x) = x^2 + 2x + 1$ as an example. We have seen how these characteristics can be visualized and analyzed using Python.\n\nUnderstanding these characteristics is crucial in many areas of data science, including machine learning, where functions are often used to model the relationship between features and target variables.\n\nRemember that this is just an introduction to the topic. There are many more characteristics of functions and much more to learn about each one. I encourage you to continue exploring this fascinating subject!",
      "metadata": {
        "noteable": {
          "cell_type": "markdown"
        }
      }
    }
  ]
}