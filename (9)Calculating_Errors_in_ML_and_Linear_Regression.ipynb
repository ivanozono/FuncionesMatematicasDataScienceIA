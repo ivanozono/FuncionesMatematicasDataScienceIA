{
  "nbformat": 4,
  "nbformat_minor": 5,
  "metadata": {
    "noteable-chatgpt": {
      "create_notebook": {
        "openai_conversation_id": "6eb3c9e7-c17a-5f20-bbbc-2389b74c7a36",
        "openai_ephemeral_user_id": "3af8edfd-ae3a-58ef-80b4-27e8917550be",
        "openai_subdivision1_iso_code": "MX-BCN"
      }
    },
    "noteable": {
      "last_transaction_id": "a37794d8-26ed-4ffd-913a-a1cf5c32eca2"
    },
    "selected_hardware_size": "small",
    "colab": {
      "provenance": [],
      "include_colab_link": true
    },
    "language_info": {
      "name": "python"
    },
    "kernelspec": {
      "name": "python3",
      "display_name": "Python 3"
    }
  },
  "cells": [
    {
      "cell_type": "markdown",
      "metadata": {
        "id": "view-in-github",
        "colab_type": "text"
      },
      "source": [
        "<a href=\"https://colab.research.google.com/github/ivanozono/MathFuncsDSciencieAI/blob/main/(9)Calculating_Errors_in_ML_and_Linear_Regression.ipynb\" target=\"_parent\"><img src=\"https://colab.research.google.com/assets/colab-badge.svg\" alt=\"Open In Colab\"/></a>"
      ]
    },
    {
      "id": "a7953c8c-4adf-40f3-8997-de3ce640e3e6",
      "cell_type": "markdown",
      "source": [
        "---\n",
        "**Calculating Errors in Machine Learning and Linear Regression**\n",
        "\n",
        "---\n",
        "\n"
      ],
      "metadata": {
        "noteable": {
          "cell_type": "markdown"
        },
        "id": "a7953c8c-4adf-40f3-8997-de3ce640e3e6"
      }
    },
    {
      "id": "d9d9cf54-a15f-4bd4-be5b-433da9d20d6a",
      "cell_type": "markdown",
      "source": [
        "---\n",
        "**Introduction to Error Calculation**\n",
        "\n",
        "---\n",
        "\n",
        "In Machine Learning, error calculation is a crucial step as it provides a quantifiable measure of how well the model is performing. The error of a model is the difference between the actual data and the data predicted by the model. The smaller the error, the better the model is at predicting the data.\n",
        "\n",
        "There are several ways to calculate the error, and one of the most common methods is using the Mean Squared Error (MSE)."
      ],
      "metadata": {
        "noteable": {
          "cell_type": "markdown"
        },
        "id": "d9d9cf54-a15f-4bd4-be5b-433da9d20d6a"
      }
    },
    {
      "id": "f2e8723b-155e-4077-9a64-6032d8ca0878",
      "cell_type": "markdown",
      "source": [
        "---\n",
        "**Understanding Mean Squared Error (MSE)**\n",
        "\n",
        "---\n",
        "\n",
        "Mean Squared Error (MSE) is a common method used to calculate the error of a model. It is the average of the squared differences between the actual and predicted values. Here's the formula for MSE:\n",
        "\n",
        "MSE = 1/n * Σ(actual - prediction)²\n",
        "\n",
        "where:\n",
        "- n is the total number of data points\n",
        "- actual is the actual data value\n",
        "- prediction is the data value predicted by the model\n",
        "\n",
        "The squaring is necessary to remove any negative signs. It also gives more weight to larger differences. It's called the 'mean squared' error because you're finding the average of a set of errors."
      ],
      "metadata": {
        "noteable": {
          "cell_type": "markdown"
        },
        "id": "f2e8723b-155e-4077-9a64-6032d8ca0878"
      }
    },
    {
      "id": "adeba98c-b6e3-4af3-9e5e-d05e9a84600f",
      "cell_type": "markdown",
      "source": [
        "---\n",
        "**Introduction to Linear Regression**\n",
        "\n",
        "---\n",
        "\n",
        "Linear Regression is a statistical method that allows us to study relationships between two continuous (quantitative) variables:\n",
        "\n",
        "- One variable, denoted x, is regarded as the predictor, explanatory, or independent variable.\n",
        "- The other variable, denoted y, is regarded as the response, outcome, or dependent variable.\n",
        "\n",
        "The goal of linear regression is to find the best fitting line through the data points."
      ],
      "metadata": {
        "noteable": {
          "cell_type": "markdown"
        },
        "id": "adeba98c-b6e3-4af3-9e5e-d05e9a84600f"
      }
    },
    {
      "id": "b1fd8a7c-1955-4c02-9646-ee109ab8af1e",
      "cell_type": "markdown",
      "source": [
        "---\n",
        "**Understanding Ordinary Least Squares**\n",
        "\n",
        "---\n",
        "\n",
        "Ordinary Least Squares (OLS) is a type of linear least squares method for estimating the unknown parameters in a linear regression model. OLS chooses the parameters of a linear function of a set of explanatory variables by the principle of least squares: minimizing the sum of the squares of the differences between the observed dependent variable (values of the variable being predicted) in the given dataset and those predicted by the linear function.\n",
        "\n",
        "In other words, it tries to minimizes the sum of squared errors (SSE) or mean squared error (MSE) between the target variable (y) and our predicted output over all samples in the dataset.\n",
        "\n",
        "OLS is used widely in data analysis and econometrics."
      ],
      "metadata": {
        "noteable": {
          "cell_type": "markdown"
        },
        "id": "b1fd8a7c-1955-4c02-9646-ee109ab8af1e"
      }
    },
    {
      "cell_type": "markdown",
      "source": [
        "---\n",
        "\n",
        "**Simple Linear Regression with MSE Evaluation**\n",
        "\n",
        "---"
      ],
      "metadata": {
        "id": "XU67C2oyAThw"
      },
      "id": "XU67C2oyAThw"
    },
    {
      "id": "8e11e0ca-872a-40a8-888f-2a91782658f9",
      "cell_type": "code",
      "metadata": {
        "noteable": {
          "cell_type": "code",
          "output_collection_id": "af09624e-fed3-45b2-8905-91351b4c47b0"
        },
        "ExecuteTime": {
          "end_time": "2023-07-04T03:51:05.843281+00:00",
          "start_time": "2023-07-04T03:51:05.283739+00:00"
        },
        "id": "8e11e0ca-872a-40a8-888f-2a91782658f9",
        "outputId": "99765c41-b9f9-411b-f35d-63e26d7054fa",
        "colab": {
          "base_uri": "https://localhost:8080/"
        }
      },
      "execution_count": 1,
      "source": [
        "# Importing necessary libraries\n",
        "import numpy as np\n",
        "from sklearn.linear_model import LinearRegression\n",
        "from sklearn.metrics import mean_squared_error\n",
        "\n",
        "# Creating a simple dataset\n",
        "np.random.seed(0)\n",
        "x = np.random.rand(100, 1)\n",
        "y = 2 + 3 * x + np.random.rand(100, 1)\n",
        "\n",
        "# Fitting a Linear Regression model\n",
        "model = LinearRegression()\n",
        "model.fit(x, y)\n",
        "\n",
        "# Making predictions\n",
        "y_pred = model.predict(x)\n",
        "\n",
        "# Calculating Mean Squared Error\n",
        "mse = mean_squared_error(y, y_pred)\n",
        "mse"
      ],
      "outputs": [
        {
          "output_type": "execute_result",
          "data": {
            "text/plain": [
              "0.07623324582875007"
            ]
          },
          "metadata": {},
          "execution_count": 1
        }
      ]
    },
    {
      "cell_type": "markdown",
      "source": [
        "\n",
        "\n",
        "The code demonstrates how to fit a linear regression model to a hypothetical dataset and evaluate its performance using the Mean Squared Error (MSE).\n",
        "\n",
        "---\n",
        "\n",
        "**Code Explanation:**\n",
        "\n",
        "1. **Setting up the Environment and Libraries:**\n",
        "    - Necessary components such as `numpy` and relevant modules from `sklearn` are imported.\n",
        "\n",
        "2. **Generating the Hypothetical Dataset:**\n",
        "\n",
        "    A seed is set for reproducibility. `x` values are generated randomly. `y` values are computed based on a linear equation with some random noise added to it.\n",
        "\n",
        "3. **Model Training:**\n",
        "\n",
        "    A linear regression model is initialized and trained using the hypothetical dataset.\n",
        "\n",
        "4. **Making Predictions:**\n",
        "   \n",
        "    The trained model is then utilized to predict the `y` values for the input data `x`.\n",
        "\n",
        "5. **Performance Evaluation (Mean Squared Error):**\n",
        "    \n",
        "    Mean Squared Error (MSE) is a commonly used metric to quantify the difference between the actual and predicted values. The closer the MSE is to zero, the better the model's performance. In this code, the MSE is calculated using the true `y` values and the predicted `y_pred` values.\n",
        "\n",
        "6. **Output:**\n",
        "    The calculated MSE value is the output of the last code line.\n",
        "\n",
        "---\n",
        "\n"
      ],
      "metadata": {
        "id": "jtrRvQuJAGXF"
      },
      "id": "jtrRvQuJAGXF"
    },
    {
      "id": "378c4235-7f89-4cf8-bb58-65d0c3d81590",
      "cell_type": "markdown",
      "source": [
        "As we can see, the Mean Squared Error of our model is approximately 0.076. This means that our model's predictions are, on average, 0.076 units away from the actual values. This is a relatively small error, indicating that our model is doing a good job at predicting the data.\n",
        "\n",
        "\n",
        "Understanding how to calculate errors and evaluate models is a crucial skill for any Data Scientist. It allows us to determine how well our model is performing and identify areas for improvement. Remember, the goal is to minimize the error to make our model as accurate as possible."
      ],
      "metadata": {
        "noteable": {
          "cell_type": "markdown"
        },
        "id": "378c4235-7f89-4cf8-bb58-65d0c3d81590"
      }
    }
  ]
}