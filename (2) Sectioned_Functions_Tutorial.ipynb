{
  "nbformat": 4,
  "nbformat_minor": 5,
  "metadata": {
    "noteable-chatgpt": {
      "create_notebook": {
        "openai_conversation_id": "8e1130d9-6883-5e66-bd37-5f80261cd4de",
        "openai_ephemeral_user_id": "8f8037e4-338b-5d3d-9a6b-2c5a8ad018cf",
        "openai_subdivision1_iso_code": "MX-BCN"
      }
    },
    "noteable": {
      "last_transaction_id": "9d73fe62-9f68-419f-add9-1c3a84037d4e"
    },
    "selected_hardware_size": "small",
    "colab": {
      "provenance": [],
      "include_colab_link": true
    },
    "language_info": {
      "name": "python"
    },
    "kernelspec": {
      "name": "python3",
      "display_name": "Python 3"
    }
  },
  "cells": [
    {
      "cell_type": "markdown",
      "metadata": {
        "id": "view-in-github",
        "colab_type": "text"
      },
      "source": [
        "<a href=\"https://colab.research.google.com/github/ivanozono/MathFuncsDSciencieAI/blob/main/(2)%20Sectioned_Functions_Tutorial.ipynb\" target=\"_parent\"><img src=\"https://colab.research.google.com/assets/colab-badge.svg\" alt=\"Open In Colab\"/></a>"
      ]
    },
    {
      "id": "ac3610a0-046a-4ec9-9b99-971a013cc671",
      "cell_type": "markdown",
      "source": [
        "---\n",
        "**Sectioned Functions**\n",
        "\n",
        "---\n",
        "\n",
        "We will explore the concept of sectioned functions, which are a special type of mathematical functions that have different definitions for different ranges of values. They are useful in modeling situations where the behavior of a variable depends on the range in which another variable lies.\n",
        "\n",
        "---"
      ],
      "metadata": {
        "noteable": {
          "cell_type": "markdown"
        },
        "id": "ac3610a0-046a-4ec9-9b99-971a013cc671"
      }
    },
    {
      "id": "56113780-f13c-4ac4-97ff-d945b08e7bea",
      "cell_type": "code",
      "metadata": {
        "noteable": {
          "cell_type": "code",
          "output_collection_id": "28040f14-896a-4da2-a9ed-4753da5ccb4d"
        },
        "ExecuteTime": {
          "end_time": "2023-07-02T22:25:16.788048+00:00",
          "start_time": "2023-07-02T22:25:16.341886+00:00"
        },
        "id": "56113780-f13c-4ac4-97ff-d945b08e7bea"
      },
      "execution_count": 4,
      "source": [
        "# Importing necessary libraries\n",
        "import numpy as np\n",
        "import matplotlib.pyplot as plt"
      ],
      "outputs": []
    },
    {
      "cell_type": "markdown",
      "source": [
        "---\n",
        "\n",
        "**Heaviside Step Function**\n",
        "\n",
        "---"
      ],
      "metadata": {
        "id": "HUjFBnw2dGqv"
      },
      "id": "HUjFBnw2dGqv"
    },
    {
      "id": "4526ec3f-bbb8-4dd6-ac4b-aec5b37365cb",
      "cell_type": "code",
      "metadata": {
        "noteable": {
          "cell_type": "code",
          "output_collection_id": "cfcd3a6f-358c-4bbc-899f-a4b885c84486"
        },
        "ExecuteTime": {
          "end_time": "2023-07-02T22:25:34.858255+00:00",
          "start_time": "2023-07-02T22:25:34.701806+00:00"
        },
        "id": "4526ec3f-bbb8-4dd6-ac4b-aec5b37365cb"
      },
      "execution_count": 5,
      "source": [
        "def heaviside(x):\n",
        "    \"\"\"Heaviside step function.\"\"\"\n",
        "    return np.where(x < 0, 0, 1)"
      ],
      "outputs": []
    },
    {
      "cell_type": "markdown",
      "source": [
        "\n",
        "\n",
        "The code showcases the formulation and utility of the Heaviside step function using a more concise approach.\n",
        "\n",
        "---\n",
        "\n",
        "**Code Explanation:**\n",
        "\n",
        "1. **Function Definition:**\n",
        "  \n",
        "    The function `heaviside(x)` represents the Heaviside step function. The salient points about this function include:\n",
        "    - It returns 0 for all values of `x` less than 0.\n",
        "    - It returns 1 for all values of `x` greater than or equal to 0.\n",
        "\n",
        "    The implementation uses `np.where`, a vectorized function in the numpy library, to determine the output based on the condition provided. Specifically:\n",
        "    - `np.where(x < 0, 0, 1)` checks each element in the `x` array. If an element is less than 0, the function returns 0; otherwise, it returns 1.\n",
        "\n",
        "2. **Advantages of This Implementation:**\n",
        "    - **Vectorized Operation:** Using `np.where` allows the function to operate on entire arrays without the need for explicit loops. This can result in performance benefits, especially for large arrays.\n",
        "    - **Readability:** The concise one-liner definition of the function enhances readability.\n",
        "    - **Flexibility:** This function can work on both individual numbers and numpy arrays seamlessly.\n",
        "\n"
      ],
      "metadata": {
        "id": "VYELwAPTc8G0"
      },
      "id": "VYELwAPTc8G0"
    },
    {
      "cell_type": "markdown",
      "source": [
        "---\n",
        "\n",
        "**Visualization of Heaviside Step Function**\n",
        "\n",
        "---"
      ],
      "metadata": {
        "id": "lmx_8I4Yd_oB"
      },
      "id": "lmx_8I4Yd_oB"
    },
    {
      "id": "ed9e5a08-bf38-4ebf-a27d-2074724307d4",
      "cell_type": "code",
      "metadata": {
        "noteable": {
          "cell_type": "code",
          "output_collection_id": "dd6fe2c4-bc5f-4d0e-8169-990ffbc0ceeb"
        },
        "ExecuteTime": {
          "end_time": "2023-07-02T22:26:48.882186+00:00",
          "start_time": "2023-07-02T22:26:48.366324+00:00"
        },
        "id": "ed9e5a08-bf38-4ebf-a27d-2074724307d4",
        "outputId": "dfa3a5a8-4b9e-4222-9113-bda625f8d7a4",
        "colab": {
          "base_uri": "https://localhost:8080/",
          "height": 564
        }
      },
      "execution_count": 3,
      "source": [
        "# Create a range of x values\n",
        "x = np.linspace(-10, 10, 400)\n",
        "\n",
        "# Compute the corresponding y values\n",
        "y = heaviside(x)\n",
        "\n",
        "# Create the plot\n",
        "plt.figure(figsize=(8, 6))\n",
        "plt.plot(x, y, label='Heaviside function')\n",
        "plt.title('Heaviside Step Function')\n",
        "plt.xlabel('x')\n",
        "plt.ylabel('y')\n",
        "plt.legend()\n",
        "plt.grid(True)\n",
        "plt.show()"
      ],
      "outputs": [
        {
          "output_type": "display_data",
          "data": {
            "text/plain": [
              "<Figure size 800x600 with 1 Axes>"
            ],
            "image/png": "[encoded data removed]"
          },
          "metadata": {}
        }
      ]
    },
    {
      "cell_type": "markdown",
      "source": [
        "\n",
        "\n",
        "The code segment depicts the visualization of the Heaviside step function across a range of `x` values.\n",
        "\n",
        "---\n",
        "\n",
        "**Code Explanation:**\n",
        "\n",
        "1. **Data Generation:**\n",
        "\n",
        "    This line employs numpy's `linspace` function to generate a set of 400 equally spaced values of `x` within the range [-10, 10].\n",
        "\n",
        "2. **Function Application to Data:**\n",
        "  \n",
        "    Using the previously defined `heaviside(x)` function, the corresponding y-values are calculated for the generated x-values. The result is an array where each element is either 0 (for x-values less than 0) or 1 (for x-values greater than or equal to 0).\n",
        "\n",
        "3. **Visualization:**\n",
        "\n",
        "    This block of code is responsible for visualizing the Heaviside step function:\n",
        "    - `plt.figure(figsize=(8, 6))`: Sets the size of the figure to 8 units in width and 6 units in height.\n",
        "    - `plt.plot(x, y, label='Heaviside function')`: Plots the `x` and `y` data points with the label \"Heaviside function.\"\n",
        "    - `plt.title('Heaviside Step Function')`: Sets the title of the plot.\n",
        "    - `plt.xlabel('x')` and `plt.ylabel('y')`: Label the x-axis and y-axis respectively.\n",
        "    - `plt.legend()`: Displays a legend on the plot, useful for distinguishing between multiple lines or datasets.\n",
        "    - `plt.grid(True)`: Adds gridlines to the plot for better clarity.\n",
        "    - `plt.show()`: Finally, this command renders the plot for display.\n",
        "\n"
      ],
      "metadata": {
        "id": "7D5dgDQ1dydd"
      },
      "id": "7D5dgDQ1dydd"
    }
  ]
}