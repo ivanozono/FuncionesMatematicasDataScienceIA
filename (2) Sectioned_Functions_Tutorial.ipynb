{
  "nbformat": 4,
  "nbformat_minor": 5,
  "metadata": {
    "noteable-chatgpt": {
      "create_notebook": {
        "openai_conversation_id": "8e1130d9-6883-5e66-bd37-5f80261cd4de",
        "openai_ephemeral_user_id": "8f8037e4-338b-5d3d-9a6b-2c5a8ad018cf",
        "openai_subdivision1_iso_code": "MX-BCN"
      }
    },
    "noteable": {
      "last_transaction_id": "9d73fe62-9f68-419f-add9-1c3a84037d4e"
    },
    "selected_hardware_size": "small"
  },
  "cells": [
    {
      "id": "ac3610a0-046a-4ec9-9b99-971a013cc671",
      "cell_type": "markdown",
      "source": "# Sectioned Functions Tutorial\n\nIn this notebook, we will explore the concept of sectioned functions, which are a special type of mathematical functions that have different definitions for different ranges of values. They are useful in modeling situations where the behavior of a variable depends on the range in which another variable lies.\n\nWe will use Python to implement and visualize these functions. Let's get started!",
      "metadata": {
        "noteable": {
          "cell_type": "markdown"
        }
      }
    },
    {
      "id": "56113780-f13c-4ac4-97ff-d945b08e7bea",
      "cell_type": "code",
      "metadata": {
        "noteable": {
          "cell_type": "code",
          "output_collection_id": "28040f14-896a-4da2-a9ed-4753da5ccb4d"
        },
        "ExecuteTime": {
          "end_time": "2023-07-02T22:25:16.788048+00:00",
          "start_time": "2023-07-02T22:25:16.341886+00:00"
        }
      },
      "execution_count": null,
      "source": "# Importing necessary libraries\nimport numpy as np\nimport matplotlib.pyplot as plt",
      "outputs": []
    },
    {
      "id": "d175dce4-18c6-48d8-b134-460e9668bc10",
      "cell_type": "markdown",
      "source": "## Defining a Sectioned Function\n\nA sectioned function is defined by several subfunctions, each applied to a certain interval of values of the independent variable. For example, let's consider the Heaviside step function, which is defined as:\n\n- 0 for x < 0\n- 1 for x >= 0\n\nLet's implement this function in Python.",
      "metadata": {
        "noteable": {
          "cell_type": "markdown"
        }
      }
    },
    {
      "id": "4526ec3f-bbb8-4dd6-ac4b-aec5b37365cb",
      "cell_type": "code",
      "metadata": {
        "noteable": {
          "cell_type": "code",
          "output_collection_id": "cfcd3a6f-358c-4bbc-899f-a4b885c84486"
        },
        "ExecuteTime": {
          "end_time": "2023-07-02T22:25:34.858255+00:00",
          "start_time": "2023-07-02T22:25:34.701806+00:00"
        }
      },
      "execution_count": null,
      "source": "def heaviside(x):\n    \"\"\"Heaviside step function.\"\"\"\n    return np.where(x < 0, 0, 1)",
      "outputs": []
    },
    {
      "id": "a5d00fef-b97a-48d1-8afc-6d7b0083de0d",
      "cell_type": "markdown",
      "source": "## Visualizing the Sectioned Function\n\nNow that we have defined our sectioned function, let's visualize it. We will create a range of x values from -10 to 10 and compute the corresponding y values using our Heaviside function. Then, we will plot y against x.",
      "metadata": {
        "noteable": {
          "cell_type": "markdown"
        }
      }
    },
    {
      "id": "ed9e5a08-bf38-4ebf-a27d-2074724307d4",
      "cell_type": "code",
      "metadata": {
        "noteable": {
          "cell_type": "code",
          "output_collection_id": "dd6fe2c4-bc5f-4d0e-8169-990ffbc0ceeb"
        },
        "ExecuteTime": {
          "end_time": "2023-07-02T22:26:48.882186+00:00",
          "start_time": "2023-07-02T22:26:48.366324+00:00"
        }
      },
      "execution_count": null,
      "source": "# Create a range of x values\nx = np.linspace(-10, 10, 400)\n\n# Compute the corresponding y values\ny = heaviside(x)\n\n# Create the plot\nplt.figure(figsize=(8, 6))\nplt.plot(x, y, label='Heaviside function')\nplt.title('Heaviside Step Function')\nplt.xlabel('x')\nplt.ylabel('y')\nplt.legend()\nplt.grid(True)\nplt.show()",
      "outputs": []
    },
    {
      "id": "f3a71c85-56be-4b41-ab2e-b81f2c190ef9",
      "cell_type": "markdown",
      "source": "## Conclusion\n\nIn this notebook, we have explored the concept of sectioned functions and how they can be implemented and visualized in Python. We used the Heaviside step function as an example, which is a simple sectioned function with two sections. This concept is fundamental in mathematics and has applications in various fields such as physics, engineering, and computer science.",
      "metadata": {
        "noteable": {
          "cell_type": "markdown"
        }
      }
    }
  ]
}